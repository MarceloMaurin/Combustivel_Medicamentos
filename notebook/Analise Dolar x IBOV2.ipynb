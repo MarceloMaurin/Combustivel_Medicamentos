{
 "cells": [
  {
   "cell_type": "markdown",
   "metadata": {},
   "source": [
    "<H1>Geração de Gráficos DOLLAR x IBOVESPA<h1>\n",
    "<p>Neste trabalho, apresentamos a continuação da analise de dados do Dollar x IBOVESPA</p>\n"
   ]
  },
  {
   "cell_type": "markdown",
   "metadata": {},
   "source": [
    "<h2>Passo1</h2>\n",
    "<p>Carga dos dados importados, lembrando que a origem destes dados já foi apresentado na visão de Analise Dolar x IBOV</p>"
   ]
  },
  {
   "cell_type": "code",
   "execution_count": 9,
   "metadata": {
    "id": "NCbAH3Pv_nhR"
   },
   "outputs": [],
   "source": [
    "import pandas as pd\n",
    "import numpy as np\n",
    "import matplotlib.pyplot as plt\n",
    "\n",
    "#Importação dos Datasets\n",
    "bolsa_valores = pd.read_csv('./../dados/IBOV.csv')\n",
    "dollar = pd.read_csv('./../dados/USD_BRL.csv')"
   ]
  },
  {
   "cell_type": "code",
   "execution_count": 10,
   "metadata": {
    "colab": {
     "base_uri": "https://localhost:8080/",
     "height": 419
    },
    "id": "MglO17CMB6sh",
    "outputId": "a9edeb3c-8965-4d52-b9d3-6f237d0b9e7d"
   },
   "outputs": [
    {
     "data": {
      "text/html": [
       "<div>\n",
       "<style scoped>\n",
       "    .dataframe tbody tr th:only-of-type {\n",
       "        vertical-align: middle;\n",
       "    }\n",
       "\n",
       "    .dataframe tbody tr th {\n",
       "        vertical-align: top;\n",
       "    }\n",
       "\n",
       "    .dataframe thead th {\n",
       "        text-align: right;\n",
       "    }\n",
       "</style>\n",
       "<table border=\"1\" class=\"dataframe\">\n",
       "  <thead>\n",
       "    <tr style=\"text-align: right;\">\n",
       "      <th></th>\n",
       "      <th>Date</th>\n",
       "      <th>Open</th>\n",
       "      <th>High</th>\n",
       "      <th>Low</th>\n",
       "      <th>Close</th>\n",
       "      <th>Adj Close</th>\n",
       "      <th>Volume</th>\n",
       "    </tr>\n",
       "  </thead>\n",
       "  <tbody>\n",
       "    <tr>\n",
       "      <th>0</th>\n",
       "      <td>2020-09-21</td>\n",
       "      <td>98283.0</td>\n",
       "      <td>98283.0</td>\n",
       "      <td>95820.0</td>\n",
       "      <td>96991.0</td>\n",
       "      <td>96991.0</td>\n",
       "      <td>9738000.0</td>\n",
       "    </tr>\n",
       "    <tr>\n",
       "      <th>1</th>\n",
       "      <td>2020-09-22</td>\n",
       "      <td>96995.0</td>\n",
       "      <td>97684.0</td>\n",
       "      <td>96390.0</td>\n",
       "      <td>97294.0</td>\n",
       "      <td>97294.0</td>\n",
       "      <td>7281300.0</td>\n",
       "    </tr>\n",
       "    <tr>\n",
       "      <th>2</th>\n",
       "      <td>2020-09-23</td>\n",
       "      <td>97294.0</td>\n",
       "      <td>97389.0</td>\n",
       "      <td>95728.0</td>\n",
       "      <td>95735.0</td>\n",
       "      <td>95735.0</td>\n",
       "      <td>8830700.0</td>\n",
       "    </tr>\n",
       "    <tr>\n",
       "      <th>3</th>\n",
       "      <td>2020-09-24</td>\n",
       "      <td>95735.0</td>\n",
       "      <td>97955.0</td>\n",
       "      <td>95653.0</td>\n",
       "      <td>97012.0</td>\n",
       "      <td>97012.0</td>\n",
       "      <td>9331000.0</td>\n",
       "    </tr>\n",
       "    <tr>\n",
       "      <th>4</th>\n",
       "      <td>2020-09-25</td>\n",
       "      <td>97011.0</td>\n",
       "      <td>97012.0</td>\n",
       "      <td>95632.0</td>\n",
       "      <td>96999.0</td>\n",
       "      <td>96999.0</td>\n",
       "      <td>7351100.0</td>\n",
       "    </tr>\n",
       "  </tbody>\n",
       "</table>\n",
       "</div>"
      ],
      "text/plain": [
       "         Date     Open     High      Low    Close  Adj Close     Volume\n",
       "0  2020-09-21  98283.0  98283.0  95820.0  96991.0    96991.0  9738000.0\n",
       "1  2020-09-22  96995.0  97684.0  96390.0  97294.0    97294.0  7281300.0\n",
       "2  2020-09-23  97294.0  97389.0  95728.0  95735.0    95735.0  8830700.0\n",
       "3  2020-09-24  95735.0  97955.0  95653.0  97012.0    97012.0  9331000.0\n",
       "4  2020-09-25  97011.0  97012.0  95632.0  96999.0    96999.0  7351100.0"
      ]
     },
     "execution_count": 10,
     "metadata": {},
     "output_type": "execute_result"
    }
   ],
   "source": [
    "bolsa_valores.head()"
   ]
  },
  {
   "cell_type": "code",
   "execution_count": 11,
   "metadata": {
    "colab": {
     "base_uri": "https://localhost:8080/",
     "height": 419
    },
    "id": "JRilVJNeTQoy",
    "outputId": "aa949a8e-92c4-41f3-fc8d-f0d7498406a8"
   },
   "outputs": [
    {
     "data": {
      "text/html": [
       "<div>\n",
       "<style scoped>\n",
       "    .dataframe tbody tr th:only-of-type {\n",
       "        vertical-align: middle;\n",
       "    }\n",
       "\n",
       "    .dataframe tbody tr th {\n",
       "        vertical-align: top;\n",
       "    }\n",
       "\n",
       "    .dataframe thead th {\n",
       "        text-align: right;\n",
       "    }\n",
       "</style>\n",
       "<table border=\"1\" class=\"dataframe\">\n",
       "  <thead>\n",
       "    <tr style=\"text-align: right;\">\n",
       "      <th></th>\n",
       "      <th>Open</th>\n",
       "      <th>High</th>\n",
       "      <th>Low</th>\n",
       "      <th>Close</th>\n",
       "      <th>Adj Close</th>\n",
       "      <th>Volume</th>\n",
       "    </tr>\n",
       "  </thead>\n",
       "  <tbody>\n",
       "    <tr>\n",
       "      <th>count</th>\n",
       "      <td>246.000000</td>\n",
       "      <td>246.000000</td>\n",
       "      <td>246.000000</td>\n",
       "      <td>246.000000</td>\n",
       "      <td>246.000000</td>\n",
       "      <td>2.460000e+02</td>\n",
       "    </tr>\n",
       "    <tr>\n",
       "      <th>mean</th>\n",
       "      <td>116177.171621</td>\n",
       "      <td>117211.895008</td>\n",
       "      <td>115151.842353</td>\n",
       "      <td>116223.687595</td>\n",
       "      <td>116223.687595</td>\n",
       "      <td>9.196783e+06</td>\n",
       "    </tr>\n",
       "    <tr>\n",
       "      <th>std</th>\n",
       "      <td>9369.715445</td>\n",
       "      <td>9211.391639</td>\n",
       "      <td>9369.766627</td>\n",
       "      <td>9306.017295</td>\n",
       "      <td>9306.017295</td>\n",
       "      <td>2.695568e+06</td>\n",
       "    </tr>\n",
       "    <tr>\n",
       "      <th>min</th>\n",
       "      <td>93586.000000</td>\n",
       "      <td>95340.000000</td>\n",
       "      <td>93387.000000</td>\n",
       "      <td>93580.000000</td>\n",
       "      <td>93580.000000</td>\n",
       "      <td>0.000000e+00</td>\n",
       "    </tr>\n",
       "    <tr>\n",
       "      <th>25%</th>\n",
       "      <td>112389.500000</td>\n",
       "      <td>114021.000000</td>\n",
       "      <td>111284.750000</td>\n",
       "      <td>112673.500000</td>\n",
       "      <td>112673.500000</td>\n",
       "      <td>7.946025e+06</td>\n",
       "    </tr>\n",
       "    <tr>\n",
       "      <th>50%</th>\n",
       "      <td>118315.500000</td>\n",
       "      <td>119271.500000</td>\n",
       "      <td>117502.500000</td>\n",
       "      <td>118273.500000</td>\n",
       "      <td>118273.500000</td>\n",
       "      <td>8.889650e+06</td>\n",
       "    </tr>\n",
       "    <tr>\n",
       "      <th>75%</th>\n",
       "      <td>122341.000000</td>\n",
       "      <td>123233.750000</td>\n",
       "      <td>121458.000000</td>\n",
       "      <td>122165.500000</td>\n",
       "      <td>122165.500000</td>\n",
       "      <td>1.044218e+07</td>\n",
       "    </tr>\n",
       "    <tr>\n",
       "      <th>max</th>\n",
       "      <td>130776.000000</td>\n",
       "      <td>131190.000000</td>\n",
       "      <td>129526.000000</td>\n",
       "      <td>130776.000000</td>\n",
       "      <td>130776.000000</td>\n",
       "      <td>2.176870e+07</td>\n",
       "    </tr>\n",
       "  </tbody>\n",
       "</table>\n",
       "</div>"
      ],
      "text/plain": [
       "                Open           High            Low          Close  \\\n",
       "count     246.000000     246.000000     246.000000     246.000000   \n",
       "mean   116177.171621  117211.895008  115151.842353  116223.687595   \n",
       "std      9369.715445    9211.391639    9369.766627    9306.017295   \n",
       "min     93586.000000   95340.000000   93387.000000   93580.000000   \n",
       "25%    112389.500000  114021.000000  111284.750000  112673.500000   \n",
       "50%    118315.500000  119271.500000  117502.500000  118273.500000   \n",
       "75%    122341.000000  123233.750000  121458.000000  122165.500000   \n",
       "max    130776.000000  131190.000000  129526.000000  130776.000000   \n",
       "\n",
       "           Adj Close        Volume  \n",
       "count     246.000000  2.460000e+02  \n",
       "mean   116223.687595  9.196783e+06  \n",
       "std      9306.017295  2.695568e+06  \n",
       "min     93580.000000  0.000000e+00  \n",
       "25%    112673.500000  7.946025e+06  \n",
       "50%    118273.500000  8.889650e+06  \n",
       "75%    122165.500000  1.044218e+07  \n",
       "max    130776.000000  2.176870e+07  "
      ]
     },
     "metadata": {},
     "output_type": "display_data"
    }
   ],
   "source": [
    "display(bolsa_valores.describe()) #resumo dataframe bolsa"
   ]
  },
  {
   "cell_type": "code",
   "execution_count": 12,
   "metadata": {},
   "outputs": [
    {
     "data": {
      "text/html": [
       "<div>\n",
       "<style scoped>\n",
       "    .dataframe tbody tr th:only-of-type {\n",
       "        vertical-align: middle;\n",
       "    }\n",
       "\n",
       "    .dataframe tbody tr th {\n",
       "        vertical-align: top;\n",
       "    }\n",
       "\n",
       "    .dataframe thead th {\n",
       "        text-align: right;\n",
       "    }\n",
       "</style>\n",
       "<table border=\"1\" class=\"dataframe\">\n",
       "  <thead>\n",
       "    <tr style=\"text-align: right;\">\n",
       "      <th></th>\n",
       "      <th>Date</th>\n",
       "      <th>Open</th>\n",
       "      <th>High</th>\n",
       "      <th>Low</th>\n",
       "      <th>Close</th>\n",
       "      <th>Adj Close</th>\n",
       "      <th>Volume</th>\n",
       "    </tr>\n",
       "  </thead>\n",
       "  <tbody>\n",
       "    <tr>\n",
       "      <th>0</th>\n",
       "      <td>2020-09-21</td>\n",
       "      <td>5.3965</td>\n",
       "      <td>5.4947</td>\n",
       "      <td>5.385089</td>\n",
       "      <td>5.3898</td>\n",
       "      <td>5.3898</td>\n",
       "      <td>0</td>\n",
       "    </tr>\n",
       "    <tr>\n",
       "      <th>1</th>\n",
       "      <td>2020-09-22</td>\n",
       "      <td>5.4130</td>\n",
       "      <td>5.4721</td>\n",
       "      <td>5.381000</td>\n",
       "      <td>5.4126</td>\n",
       "      <td>5.4126</td>\n",
       "      <td>0</td>\n",
       "    </tr>\n",
       "    <tr>\n",
       "      <th>2</th>\n",
       "      <td>2020-09-23</td>\n",
       "      <td>5.4705</td>\n",
       "      <td>5.5568</td>\n",
       "      <td>5.467055</td>\n",
       "      <td>5.4699</td>\n",
       "      <td>5.4699</td>\n",
       "      <td>0</td>\n",
       "    </tr>\n",
       "    <tr>\n",
       "      <th>3</th>\n",
       "      <td>2020-09-24</td>\n",
       "      <td>5.5921</td>\n",
       "      <td>5.6212</td>\n",
       "      <td>5.529300</td>\n",
       "      <td>5.5924</td>\n",
       "      <td>5.5924</td>\n",
       "      <td>0</td>\n",
       "    </tr>\n",
       "    <tr>\n",
       "      <th>4</th>\n",
       "      <td>2020-09-25</td>\n",
       "      <td>5.5084</td>\n",
       "      <td>5.5860</td>\n",
       "      <td>5.506018</td>\n",
       "      <td>5.5084</td>\n",
       "      <td>5.5084</td>\n",
       "      <td>0</td>\n",
       "    </tr>\n",
       "    <tr>\n",
       "      <th>5</th>\n",
       "      <td>2020-09-28</td>\n",
       "      <td>5.5586</td>\n",
       "      <td>5.6207</td>\n",
       "      <td>5.512735</td>\n",
       "      <td>5.5611</td>\n",
       "      <td>5.5611</td>\n",
       "      <td>0</td>\n",
       "    </tr>\n",
       "  </tbody>\n",
       "</table>\n",
       "</div>"
      ],
      "text/plain": [
       "         Date    Open    High       Low   Close  Adj Close  Volume\n",
       "0  2020-09-21  5.3965  5.4947  5.385089  5.3898     5.3898       0\n",
       "1  2020-09-22  5.4130  5.4721  5.381000  5.4126     5.4126       0\n",
       "2  2020-09-23  5.4705  5.5568  5.467055  5.4699     5.4699       0\n",
       "3  2020-09-24  5.5921  5.6212  5.529300  5.5924     5.5924       0\n",
       "4  2020-09-25  5.5084  5.5860  5.506018  5.5084     5.5084       0\n",
       "5  2020-09-28  5.5586  5.6207  5.512735  5.5611     5.5611       0"
      ]
     },
     "execution_count": 12,
     "metadata": {},
     "output_type": "execute_result"
    }
   ],
   "source": [
    "dollar.head(6)#metodo HEAD para mostrar 6 PRIMEIRAS LINHAS"
   ]
  },
  {
   "cell_type": "code",
   "execution_count": 13,
   "metadata": {},
   "outputs": [
    {
     "data": {
      "text/html": [
       "<div>\n",
       "<style scoped>\n",
       "    .dataframe tbody tr th:only-of-type {\n",
       "        vertical-align: middle;\n",
       "    }\n",
       "\n",
       "    .dataframe tbody tr th {\n",
       "        vertical-align: top;\n",
       "    }\n",
       "\n",
       "    .dataframe thead th {\n",
       "        text-align: right;\n",
       "    }\n",
       "</style>\n",
       "<table border=\"1\" class=\"dataframe\">\n",
       "  <thead>\n",
       "    <tr style=\"text-align: right;\">\n",
       "      <th></th>\n",
       "      <th>Date</th>\n",
       "      <th>Close</th>\n",
       "    </tr>\n",
       "  </thead>\n",
       "  <tbody>\n",
       "    <tr>\n",
       "      <th>4</th>\n",
       "      <td>2020-09-25</td>\n",
       "      <td>5.5084</td>\n",
       "    </tr>\n",
       "  </tbody>\n",
       "</table>\n",
       "</div>"
      ],
      "text/plain": [
       "         Date   Close\n",
       "4  2020-09-25  5.5084"
      ]
     },
     "metadata": {},
     "output_type": "display_data"
    }
   ],
   "source": [
    "display(dollar.loc[dollar['Date'] == '2020-09-25',[\"Date\",\"Close\"]])#usando LOC localizar DADOS com data IGUAL 25/09/2020  \n",
    "                                                                    #mostrando colunas DATA e FECHAMENTO DO DOLAR\n",
    "    "
   ]
  },
  {
   "cell_type": "markdown",
   "metadata": {
    "id": "c8-ljt9BqVTE"
   },
   "source": [
    "<h2>Passo 2</h2>\n",
    "<h3>Ajustando os registros</h3>\n",
    "<p>Pegamos os dados do dolar apresentando um conjunto apenas de Date e close (fechamento). Em seguida aplicamos o filtro de data maior ou igual a 01/01/2021.</p>\n"
   ]
  },
  {
   "cell_type": "code",
   "execution_count": 14,
   "metadata": {
    "colab": {
     "base_uri": "https://localhost:8080/",
     "height": 419
    },
    "id": "ktijSPFkGaXz",
    "outputId": "93308910-9f70-49fb-84e2-62ad44572d56"
   },
   "outputs": [
    {
     "data": {
      "text/html": [
       "<div>\n",
       "<style scoped>\n",
       "    .dataframe tbody tr th:only-of-type {\n",
       "        vertical-align: middle;\n",
       "    }\n",
       "\n",
       "    .dataframe tbody tr th {\n",
       "        vertical-align: top;\n",
       "    }\n",
       "\n",
       "    .dataframe thead th {\n",
       "        text-align: right;\n",
       "    }\n",
       "</style>\n",
       "<table border=\"1\" class=\"dataframe\">\n",
       "  <thead>\n",
       "    <tr style=\"text-align: right;\">\n",
       "      <th></th>\n",
       "      <th>Date</th>\n",
       "      <th>Close</th>\n",
       "    </tr>\n",
       "  </thead>\n",
       "  <tbody>\n",
       "    <tr>\n",
       "      <th>74</th>\n",
       "      <td>2021-01-01</td>\n",
       "      <td>5.1921</td>\n",
       "    </tr>\n",
       "    <tr>\n",
       "      <th>75</th>\n",
       "      <td>2021-01-04</td>\n",
       "      <td>5.1919</td>\n",
       "    </tr>\n",
       "    <tr>\n",
       "      <th>76</th>\n",
       "      <td>2021-01-05</td>\n",
       "      <td>5.2953</td>\n",
       "    </tr>\n",
       "    <tr>\n",
       "      <th>77</th>\n",
       "      <td>2021-01-06</td>\n",
       "      <td>5.2841</td>\n",
       "    </tr>\n",
       "    <tr>\n",
       "      <th>78</th>\n",
       "      <td>2021-01-07</td>\n",
       "      <td>5.3129</td>\n",
       "    </tr>\n",
       "    <tr>\n",
       "      <th>...</th>\n",
       "      <td>...</td>\n",
       "      <td>...</td>\n",
       "    </tr>\n",
       "    <tr>\n",
       "      <th>257</th>\n",
       "      <td>2021-09-15</td>\n",
       "      <td>5.2389</td>\n",
       "    </tr>\n",
       "    <tr>\n",
       "      <th>258</th>\n",
       "      <td>2021-09-16</td>\n",
       "      <td>5.2217</td>\n",
       "    </tr>\n",
       "    <tr>\n",
       "      <th>259</th>\n",
       "      <td>2021-09-17</td>\n",
       "      <td>5.2568</td>\n",
       "    </tr>\n",
       "    <tr>\n",
       "      <th>260</th>\n",
       "      <td>2021-09-20</td>\n",
       "      <td>5.2897</td>\n",
       "    </tr>\n",
       "    <tr>\n",
       "      <th>261</th>\n",
       "      <td>2021-09-21</td>\n",
       "      <td>5.2701</td>\n",
       "    </tr>\n",
       "  </tbody>\n",
       "</table>\n",
       "<p>188 rows × 2 columns</p>\n",
       "</div>"
      ],
      "text/plain": [
       "          Date   Close\n",
       "74  2021-01-01  5.1921\n",
       "75  2021-01-04  5.1919\n",
       "76  2021-01-05  5.2953\n",
       "77  2021-01-06  5.2841\n",
       "78  2021-01-07  5.3129\n",
       "..         ...     ...\n",
       "257 2021-09-15  5.2389\n",
       "258 2021-09-16  5.2217\n",
       "259 2021-09-17  5.2568\n",
       "260 2021-09-20  5.2897\n",
       "261 2021-09-21  5.2701\n",
       "\n",
       "[188 rows x 2 columns]"
      ]
     },
     "execution_count": 14,
     "metadata": {},
     "output_type": "execute_result"
    }
   ],
   "source": [
    "# selecionando apenas a data e valor de fechamento do Dollar do ano de 2021\n",
    "\n",
    "colunas = ['Date', 'Close']\n",
    "dados_dollar = dollar.filter(colunas)\n",
    "dados_dollar['Date'] = pd.to_datetime(dados_dollar['Date'])\n",
    "\n",
    "filtro = (dados_dollar['Date']>='2021-01-01')\n",
    "\n",
    "dados_dollar_2021 = dados_dollar[filtro]\n",
    "dados_dollar_2021"
   ]
  },
  {
   "cell_type": "markdown",
   "metadata": {
    "id": "M3qarcqB5dhm"
   },
   "source": [
    "<h3>Pegando apenas a data e valor de fechamento da IBOVESPA do ano de 2021</h3>\n",
    "<p>Pegamos os dados da bolsa apresentando um conjunto apenas de Date e close (fechamento). Em seguida aplicamos o filtro de data maior ou igual a 01/01/2021.</p>"
   ]
  },
  {
   "cell_type": "code",
   "execution_count": 15,
   "metadata": {
    "colab": {
     "base_uri": "https://localhost:8080/",
     "height": 419
    },
    "id": "uJI3z8xS5n5r",
    "outputId": "4052b098-f2b7-49e3-dc3a-292aa50a287e"
   },
   "outputs": [
    {
     "data": {
      "text/html": [
       "<div>\n",
       "<style scoped>\n",
       "    .dataframe tbody tr th:only-of-type {\n",
       "        vertical-align: middle;\n",
       "    }\n",
       "\n",
       "    .dataframe tbody tr th {\n",
       "        vertical-align: top;\n",
       "    }\n",
       "\n",
       "    .dataframe thead th {\n",
       "        text-align: right;\n",
       "    }\n",
       "</style>\n",
       "<table border=\"1\" class=\"dataframe\">\n",
       "  <thead>\n",
       "    <tr style=\"text-align: right;\">\n",
       "      <th></th>\n",
       "      <th>Date</th>\n",
       "      <th>Close</th>\n",
       "    </tr>\n",
       "  </thead>\n",
       "  <tbody>\n",
       "    <tr>\n",
       "      <th>68</th>\n",
       "      <td>2021-01-04</td>\n",
       "      <td>118558.000000</td>\n",
       "    </tr>\n",
       "    <tr>\n",
       "      <th>69</th>\n",
       "      <td>2021-01-05</td>\n",
       "      <td>119223.000000</td>\n",
       "    </tr>\n",
       "    <tr>\n",
       "      <th>70</th>\n",
       "      <td>2021-01-06</td>\n",
       "      <td>119851.000000</td>\n",
       "    </tr>\n",
       "    <tr>\n",
       "      <th>71</th>\n",
       "      <td>2021-01-07</td>\n",
       "      <td>121956.000000</td>\n",
       "    </tr>\n",
       "    <tr>\n",
       "      <th>72</th>\n",
       "      <td>2021-01-08</td>\n",
       "      <td>125077.000000</td>\n",
       "    </tr>\n",
       "    <tr>\n",
       "      <th>...</th>\n",
       "      <td>...</td>\n",
       "      <td>...</td>\n",
       "    </tr>\n",
       "    <tr>\n",
       "      <th>242</th>\n",
       "      <td>2021-09-15</td>\n",
       "      <td>115063.000000</td>\n",
       "    </tr>\n",
       "    <tr>\n",
       "      <th>243</th>\n",
       "      <td>2021-09-16</td>\n",
       "      <td>113794.000000</td>\n",
       "    </tr>\n",
       "    <tr>\n",
       "      <th>244</th>\n",
       "      <td>2021-09-17</td>\n",
       "      <td>111439.000000</td>\n",
       "    </tr>\n",
       "    <tr>\n",
       "      <th>245</th>\n",
       "      <td>2021-09-20</td>\n",
       "      <td>108844.000000</td>\n",
       "    </tr>\n",
       "    <tr>\n",
       "      <th>246</th>\n",
       "      <td>2021-09-21</td>\n",
       "      <td>110339.148438</td>\n",
       "    </tr>\n",
       "  </tbody>\n",
       "</table>\n",
       "<p>179 rows × 2 columns</p>\n",
       "</div>"
      ],
      "text/plain": [
       "          Date          Close\n",
       "68  2021-01-04  118558.000000\n",
       "69  2021-01-05  119223.000000\n",
       "70  2021-01-06  119851.000000\n",
       "71  2021-01-07  121956.000000\n",
       "72  2021-01-08  125077.000000\n",
       "..         ...            ...\n",
       "242 2021-09-15  115063.000000\n",
       "243 2021-09-16  113794.000000\n",
       "244 2021-09-17  111439.000000\n",
       "245 2021-09-20  108844.000000\n",
       "246 2021-09-21  110339.148438\n",
       "\n",
       "[179 rows x 2 columns]"
      ]
     },
     "execution_count": 15,
     "metadata": {},
     "output_type": "execute_result"
    }
   ],
   "source": [
    "dados_bolsa_valores = bolsa_valores.filter(colunas)\n",
    "dados_bolsa_valores['Date'] = pd.to_datetime(dados_bolsa_valores['Date'])\n",
    "\n",
    "filtro = (dados_bolsa_valores['Date']>='2021-01-01')\n",
    "\n",
    "dados_bolsa_valores_2021 = dados_bolsa_valores[filtro]\n",
    "dados_bolsa_valores_2021"
   ]
  },
  {
   "cell_type": "markdown",
   "metadata": {
    "id": "trM8OtiEqf6T"
   },
   "source": [
    "<h3>Agrupando e pegando a média dos valores do Dóllar por mês</h3>\n",
    "<p>Neste contexto, pegamos os valores da média dos valores em dolar mês a mês. Fazemos isso aplicamos o comando groupby, finalizando com a função de média (mean()).</p>"
   ]
  },
  {
   "cell_type": "code",
   "execution_count": 16,
   "metadata": {
    "colab": {
     "base_uri": "https://localhost:8080/",
     "height": 0
    },
    "id": "uBSJqT9pnIhE",
    "outputId": "679e809a-8089-4fab-aa62-c301411fa74b"
   },
   "outputs": [
    {
     "data": {
      "text/plain": [
       "Date\n",
       "April        5.574136\n",
       "August       5.252873\n",
       "February     5.402634\n",
       "January      5.338947\n",
       "July         5.151366\n",
       "June         5.035377\n",
       "March        5.640775\n",
       "May          5.305892\n",
       "September    5.219927\n",
       "Name: Close, dtype: float64"
      ]
     },
     "execution_count": 16,
     "metadata": {},
     "output_type": "execute_result"
    }
   ],
   "source": [
    "dados_dollar_mes = dados_dollar_2021.groupby(dados_dollar_2021['Date'].dt.strftime('%B'))['Close'].mean()\n",
    "dados_dollar_mes\n"
   ]
  },
  {
   "cell_type": "markdown",
   "metadata": {},
   "source": [
    "<h3>Passo 3</h3>\n",
    "<h4>Gerando gráfico de preço médio do dolar</h4>\n",
    "<p>Aqui montamos o gráfico de barra, apresentando os valores médios do dollar mês a mês.</p>"
   ]
  },
  {
   "cell_type": "code",
   "execution_count": 23,
   "metadata": {},
   "outputs": [
    {
     "data": {
      "image/png": "[encoded data removed]",
      "text/plain": [
       "<Figure size 432x288 with 1 Axes>"
      ]
     },
     "metadata": {
      "needs_background": "light"
     },
     "output_type": "display_data"
    }
   ],
   "source": [
    "dados_dollar_mes.plot(kind='bar')\n",
    "\n",
    "x1,x2,y1,y2 = plt.axis()\n",
    "plt.axis((x1,x2,2,7))\n",
    "plt.style.use('ggplot')#colocando estilo GGPLOT no grafico\n",
    "plt.title(\"Dóllar entre Janeiro e Setembro de 2021\", fontsize=13, fontweight='bold', )#alternando fonte titulo\n",
    "plt.xlabel(\"Meses\")\n",
    "plt.ylabel(\"Valores em Reais\")\n",
    "\n",
    "\n",
    "plt.show()"
   ]
  },
  {
   "cell_type": "markdown",
   "metadata": {
    "id": "L7L_peB-8agg"
   },
   "source": [
    "## **Agrupando e pegando a média dos valores da Bolsa de Valores por mês**"
   ]
  },
  {
   "cell_type": "code",
   "execution_count": 22,
   "metadata": {
    "colab": {
     "base_uri": "https://localhost:8080/",
     "height": 0
    },
    "id": "tgiqOUH-voIE",
    "outputId": "3429bbe4-ed3a-4584-9110-69e00a0ec164"
   },
   "outputs": [
    {
     "data": {
      "text/plain": [
       "Date\n",
       "April        119249.450000\n",
       "August       120312.636364\n",
       "February     117292.823529\n",
       "January      120126.210526\n",
       "July         126030.952381\n",
       "June         128989.952381\n",
       "March        113870.826087\n",
       "May          122219.714286\n",
       "September    114714.224888\n",
       "Name: Close, dtype: float64"
      ]
     },
     "execution_count": 22,
     "metadata": {},
     "output_type": "execute_result"
    }
   ],
   "source": [
    "dados_bolsa_valores_mes = dados_bolsa_valores_2021.groupby(dados_bolsa_valores_2021['Date'].dt.strftime('%B'))['Close'].mean()\n",
    "dados_bolsa_valores_mes"
   ]
  },
  {
   "cell_type": "code",
   "execution_count": 21,
   "metadata": {
    "colab": {
     "base_uri": "https://localhost:8080/",
     "height": 340
    },
    "id": "shMmLpwwonx8",
    "outputId": "f7c6cc9a-d2f1-4e72-f2e8-3602a42f489e"
   },
   "outputs": [
    {
     "data": {
      "image/png": "[encoded data removed]",
      "text/plain": [
       "<Figure size 432x288 with 1 Axes>"
      ]
     },
     "metadata": {
      "needs_background": "light"
     },
     "output_type": "display_data"
    }
   ],
   "source": [
    "dados_bolsa_valores_mes.plot(kind='bar')\n",
    "x1,x2,y1,y2 = plt.axis()\n",
    "plt.axis((x1,x2,100000,140000))\n",
    "plt.title(\"Bolsa de valores entre Janeiro e Setembro de 2021\")\n",
    "plt.xlabel(\"Meses\")\n",
    "plt.ylabel(\"Valores em Reais\")\n",
    "plt.show()"
   ]
  },
  {
   "cell_type": "markdown",
   "metadata": {
    "id": "AVXAummYBCB-"
   },
   "source": [
    "## **Unindo os dados das tabelas**"
   ]
  },
  {
   "cell_type": "code",
   "execution_count": 20,
   "metadata": {
    "colab": {
     "base_uri": "https://localhost:8080/",
     "height": 359
    },
    "id": "97cpOvwxBF_T",
    "outputId": "6489fe3c-cf74-461b-b6ac-9729318bbfd6"
   },
   "outputs": [
    {
     "data": {
      "text/html": [
       "<div>\n",
       "<style scoped>\n",
       "    .dataframe tbody tr th:only-of-type {\n",
       "        vertical-align: middle;\n",
       "    }\n",
       "\n",
       "    .dataframe tbody tr th {\n",
       "        vertical-align: top;\n",
       "    }\n",
       "\n",
       "    .dataframe thead th {\n",
       "        text-align: right;\n",
       "    }\n",
       "</style>\n",
       "<table border=\"1\" class=\"dataframe\">\n",
       "  <thead>\n",
       "    <tr style=\"text-align: right;\">\n",
       "      <th></th>\n",
       "      <th>Bolsa de Valores</th>\n",
       "      <th>Dollar</th>\n",
       "    </tr>\n",
       "    <tr>\n",
       "      <th>Date</th>\n",
       "      <th></th>\n",
       "      <th></th>\n",
       "    </tr>\n",
       "  </thead>\n",
       "  <tbody>\n",
       "    <tr>\n",
       "      <th>April</th>\n",
       "      <td>119249.450000</td>\n",
       "      <td>5.574136</td>\n",
       "    </tr>\n",
       "    <tr>\n",
       "      <th>August</th>\n",
       "      <td>120312.636364</td>\n",
       "      <td>5.252873</td>\n",
       "    </tr>\n",
       "    <tr>\n",
       "      <th>February</th>\n",
       "      <td>117292.823529</td>\n",
       "      <td>5.402634</td>\n",
       "    </tr>\n",
       "    <tr>\n",
       "      <th>January</th>\n",
       "      <td>120126.210526</td>\n",
       "      <td>5.338947</td>\n",
       "    </tr>\n",
       "    <tr>\n",
       "      <th>July</th>\n",
       "      <td>126030.952381</td>\n",
       "      <td>5.151366</td>\n",
       "    </tr>\n",
       "    <tr>\n",
       "      <th>June</th>\n",
       "      <td>128989.952381</td>\n",
       "      <td>5.035377</td>\n",
       "    </tr>\n",
       "    <tr>\n",
       "      <th>March</th>\n",
       "      <td>113870.826087</td>\n",
       "      <td>5.640775</td>\n",
       "    </tr>\n",
       "    <tr>\n",
       "      <th>May</th>\n",
       "      <td>122219.714286</td>\n",
       "      <td>5.305892</td>\n",
       "    </tr>\n",
       "    <tr>\n",
       "      <th>September</th>\n",
       "      <td>114714.224888</td>\n",
       "      <td>5.219927</td>\n",
       "    </tr>\n",
       "  </tbody>\n",
       "</table>\n",
       "</div>"
      ],
      "text/plain": [
       "           Bolsa de Valores    Dollar\n",
       "Date                                 \n",
       "April         119249.450000  5.574136\n",
       "August        120312.636364  5.252873\n",
       "February      117292.823529  5.402634\n",
       "January       120126.210526  5.338947\n",
       "July          126030.952381  5.151366\n",
       "June          128989.952381  5.035377\n",
       "March         113870.826087  5.640775\n",
       "May           122219.714286  5.305892\n",
       "September     114714.224888  5.219927"
      ]
     },
     "execution_count": 20,
     "metadata": {},
     "output_type": "execute_result"
    }
   ],
   "source": [
    "dados_dollar_bolsa_valores = pd.concat([dados_bolsa_valores_mes, dados_dollar_mes], axis=1)\n",
    "dados_dollar_bolsa_valores.columns = ['Bolsa de Valores', 'Dollar']\n",
    "dados_dollar_bolsa_valores"
   ]
  },
  {
   "cell_type": "markdown",
   "metadata": {
    "id": "FuhJ5YAZHEYw"
   },
   "source": [
    "## **Geração do Gráfico de disperção para Análise de Relação entre Ativos por mês**"
   ]
  },
  {
   "cell_type": "code",
   "execution_count": 26,
   "metadata": {},
   "outputs": [
    {
     "data": {
      "image/png": "[encoded data removed]",
      "text/plain": [
       "<Figure size 432x288 with 1 Axes>"
      ]
     },
     "metadata": {},
     "output_type": "display_data"
    }
   ],
   "source": [
    "\n",
    "dados_dollar_bolsa_valores.plot(x='Dollar', y='Bolsa de Valores', kind='scatter',grid=True ,lw=10 ,marker='+') #largura dos pontos LW - marker tipo do ponto \n",
    "plt.style.use('ggplot')\n",
    "plt.grid(axis='both', ls='--')\n",
    "plt.show()"
   ]
  },
  {
   "cell_type": "markdown",
   "metadata": {},
   "source": [
    "\n"
   ]
  },
  {
   "cell_type": "code",
   "execution_count": 27,
   "metadata": {},
   "outputs": [
    {
     "data": {
      "text/plain": [
       "<AxesSubplot:>"
      ]
     },
     "execution_count": 27,
     "metadata": {},
     "output_type": "execute_result"
    },
    {
     "data": {
      "image/png": "[encoded data removed]",
      "text/plain": [
       "<Figure size 432x288 with 1 Axes>"
      ]
     },
     "metadata": {},
     "output_type": "display_data"
    }
   ],
   "source": [
    "\n",
    "dados_dollar_bolsa_valores.plot.box(x='Dollar', y='Bolsa de Valores')"
   ]
  },
  {
   "cell_type": "code",
   "execution_count": null,
   "metadata": {},
   "outputs": [],
   "source": []
  }
 ],
 "metadata": {
  "colab": {
   "collapsed_sections": [],
   "name": "Untitled0.ipynb",
   "provenance": []
  },
  "kernelspec": {
   "display_name": "Python 3",
   "language": "python",
   "name": "python3"
  },
  "language_info": {
   "codemirror_mode": {
    "name": "ipython",
    "version": 3
   },
   "file_extension": ".py",
   "mimetype": "text/x-python",
   "name": "python",
   "nbconvert_exporter": "python",
   "pygments_lexer": "ipython3",
   "version": "3.8.8"
  }
 },
 "nbformat": 4,
 "nbformat_minor": 1
}
