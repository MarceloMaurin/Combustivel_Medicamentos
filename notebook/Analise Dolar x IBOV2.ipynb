{
 "cells": [
  {
   "cell_type": "markdown",
   "metadata": {},
   "source": [
    "<H1>Geração de Gráficos DOLLAR x IBOVESPA<h1>\n",
    "<p>Neste trabalho, apresentamos a continuação da analise de dados do Dollar x IBOVESPA</p>\n"
   ]
  },
  {
   "cell_type": "markdown",
   "metadata": {},
   "source": [
    "<h2>Passo1</h2>\n",
    "<p>Carga dos dados importados, lembrando que a origem destes dados já foi apresentado na visão de Analise Dolar x IBOV</p>"
   ]
  },
  {
   "cell_type": "code",
   "execution_count": 1,
   "metadata": {
    "id": "NCbAH3Pv_nhR"
   },
   "outputs": [],
   "source": [
    "import pandas as pd\n",
    "import numpy as np\n",
    "import matplotlib.pyplot as plt\n",
    "\n",
    "#Importação dos Datasets\n",
    "bolsa_valores = pd.read_csv('./../dados/IBOV.csv')\n",
    "dollar = pd.read_csv('./../dados/USD_BRL.csv')"
   ]
  },
  {
   "cell_type": "code",
   "execution_count": 2,
   "metadata": {
    "colab": {
     "base_uri": "https://localhost:8080/",
     "height": 419
    },
    "id": "MglO17CMB6sh",
    "outputId": "a9edeb3c-8965-4d52-b9d3-6f237d0b9e7d"
   },
   "outputs": [
    {
     "data": {
      "text/html": [
       "<div>\n",
       "<style scoped>\n",
       "    .dataframe tbody tr th:only-of-type {\n",
       "        vertical-align: middle;\n",
       "    }\n",
       "\n",
       "    .dataframe tbody tr th {\n",
       "        vertical-align: top;\n",
       "    }\n",
       "\n",
       "    .dataframe thead th {\n",
       "        text-align: right;\n",
       "    }\n",
       "</style>\n",
       "<table border=\"1\" class=\"dataframe\">\n",
       "  <thead>\n",
       "    <tr style=\"text-align: right;\">\n",
       "      <th></th>\n",
       "      <th>Date</th>\n",
       "      <th>Open</th>\n",
       "      <th>High</th>\n",
       "      <th>Low</th>\n",
       "      <th>Close</th>\n",
       "      <th>Adj Close</th>\n",
       "      <th>Volume</th>\n",
       "    </tr>\n",
       "  </thead>\n",
       "  <tbody>\n",
       "    <tr>\n",
       "      <th>0</th>\n",
       "      <td>2020-09-21</td>\n",
       "      <td>98283.00000</td>\n",
       "      <td>98283.000000</td>\n",
       "      <td>95820.00000</td>\n",
       "      <td>96991.000000</td>\n",
       "      <td>96991.000000</td>\n",
       "      <td>9738000.0</td>\n",
       "    </tr>\n",
       "    <tr>\n",
       "      <th>1</th>\n",
       "      <td>2020-09-22</td>\n",
       "      <td>96995.00000</td>\n",
       "      <td>97684.000000</td>\n",
       "      <td>96390.00000</td>\n",
       "      <td>97294.000000</td>\n",
       "      <td>97294.000000</td>\n",
       "      <td>7281300.0</td>\n",
       "    </tr>\n",
       "    <tr>\n",
       "      <th>2</th>\n",
       "      <td>2020-09-23</td>\n",
       "      <td>97294.00000</td>\n",
       "      <td>97389.000000</td>\n",
       "      <td>95728.00000</td>\n",
       "      <td>95735.000000</td>\n",
       "      <td>95735.000000</td>\n",
       "      <td>8830700.0</td>\n",
       "    </tr>\n",
       "    <tr>\n",
       "      <th>3</th>\n",
       "      <td>2020-09-24</td>\n",
       "      <td>95735.00000</td>\n",
       "      <td>97955.000000</td>\n",
       "      <td>95653.00000</td>\n",
       "      <td>97012.000000</td>\n",
       "      <td>97012.000000</td>\n",
       "      <td>9331000.0</td>\n",
       "    </tr>\n",
       "    <tr>\n",
       "      <th>4</th>\n",
       "      <td>2020-09-25</td>\n",
       "      <td>97011.00000</td>\n",
       "      <td>97012.000000</td>\n",
       "      <td>95632.00000</td>\n",
       "      <td>96999.000000</td>\n",
       "      <td>96999.000000</td>\n",
       "      <td>7351100.0</td>\n",
       "    </tr>\n",
       "    <tr>\n",
       "      <th>...</th>\n",
       "      <td>...</td>\n",
       "      <td>...</td>\n",
       "      <td>...</td>\n",
       "      <td>...</td>\n",
       "      <td>...</td>\n",
       "      <td>...</td>\n",
       "      <td>...</td>\n",
       "    </tr>\n",
       "    <tr>\n",
       "      <th>242</th>\n",
       "      <td>2021-09-15</td>\n",
       "      <td>116191.00000</td>\n",
       "      <td>116312.000000</td>\n",
       "      <td>114741.00000</td>\n",
       "      <td>115063.000000</td>\n",
       "      <td>115063.000000</td>\n",
       "      <td>9456800.0</td>\n",
       "    </tr>\n",
       "    <tr>\n",
       "      <th>243</th>\n",
       "      <td>2021-09-16</td>\n",
       "      <td>115062.00000</td>\n",
       "      <td>115062.000000</td>\n",
       "      <td>113395.00000</td>\n",
       "      <td>113794.000000</td>\n",
       "      <td>113794.000000</td>\n",
       "      <td>10685500.0</td>\n",
       "    </tr>\n",
       "    <tr>\n",
       "      <th>244</th>\n",
       "      <td>2021-09-17</td>\n",
       "      <td>113794.00000</td>\n",
       "      <td>113794.000000</td>\n",
       "      <td>111157.00000</td>\n",
       "      <td>111439.000000</td>\n",
       "      <td>111439.000000</td>\n",
       "      <td>14827600.0</td>\n",
       "    </tr>\n",
       "    <tr>\n",
       "      <th>245</th>\n",
       "      <td>2021-09-20</td>\n",
       "      <td>111435.00000</td>\n",
       "      <td>111435.000000</td>\n",
       "      <td>107520.00000</td>\n",
       "      <td>108844.000000</td>\n",
       "      <td>108844.000000</td>\n",
       "      <td>11500200.0</td>\n",
       "    </tr>\n",
       "    <tr>\n",
       "      <th>246</th>\n",
       "      <td>2021-09-21</td>\n",
       "      <td>108859.21875</td>\n",
       "      <td>110923.171875</td>\n",
       "      <td>108859.21875</td>\n",
       "      <td>110339.148438</td>\n",
       "      <td>110339.148438</td>\n",
       "      <td>0.0</td>\n",
       "    </tr>\n",
       "  </tbody>\n",
       "</table>\n",
       "<p>247 rows × 7 columns</p>\n",
       "</div>"
      ],
      "text/plain": [
       "           Date          Open           High           Low          Close  \\\n",
       "0    2020-09-21   98283.00000   98283.000000   95820.00000   96991.000000   \n",
       "1    2020-09-22   96995.00000   97684.000000   96390.00000   97294.000000   \n",
       "2    2020-09-23   97294.00000   97389.000000   95728.00000   95735.000000   \n",
       "3    2020-09-24   95735.00000   97955.000000   95653.00000   97012.000000   \n",
       "4    2020-09-25   97011.00000   97012.000000   95632.00000   96999.000000   \n",
       "..          ...           ...            ...           ...            ...   \n",
       "242  2021-09-15  116191.00000  116312.000000  114741.00000  115063.000000   \n",
       "243  2021-09-16  115062.00000  115062.000000  113395.00000  113794.000000   \n",
       "244  2021-09-17  113794.00000  113794.000000  111157.00000  111439.000000   \n",
       "245  2021-09-20  111435.00000  111435.000000  107520.00000  108844.000000   \n",
       "246  2021-09-21  108859.21875  110923.171875  108859.21875  110339.148438   \n",
       "\n",
       "         Adj Close      Volume  \n",
       "0     96991.000000   9738000.0  \n",
       "1     97294.000000   7281300.0  \n",
       "2     95735.000000   8830700.0  \n",
       "3     97012.000000   9331000.0  \n",
       "4     96999.000000   7351100.0  \n",
       "..             ...         ...  \n",
       "242  115063.000000   9456800.0  \n",
       "243  113794.000000  10685500.0  \n",
       "244  111439.000000  14827600.0  \n",
       "245  108844.000000  11500200.0  \n",
       "246  110339.148438         0.0  \n",
       "\n",
       "[247 rows x 7 columns]"
      ]
     },
     "execution_count": 2,
     "metadata": {},
     "output_type": "execute_result"
    }
   ],
   "source": [
    "bolsa_valores"
   ]
  },
  {
   "cell_type": "code",
   "execution_count": 3,
   "metadata": {
    "colab": {
     "base_uri": "https://localhost:8080/",
     "height": 419
    },
    "id": "JRilVJNeTQoy",
    "outputId": "aa949a8e-92c4-41f3-fc8d-f0d7498406a8"
   },
   "outputs": [
    {
     "data": {
      "text/html": [
       "<div>\n",
       "<style scoped>\n",
       "    .dataframe tbody tr th:only-of-type {\n",
       "        vertical-align: middle;\n",
       "    }\n",
       "\n",
       "    .dataframe tbody tr th {\n",
       "        vertical-align: top;\n",
       "    }\n",
       "\n",
       "    .dataframe thead th {\n",
       "        text-align: right;\n",
       "    }\n",
       "</style>\n",
       "<table border=\"1\" class=\"dataframe\">\n",
       "  <thead>\n",
       "    <tr style=\"text-align: right;\">\n",
       "      <th></th>\n",
       "      <th>Date</th>\n",
       "      <th>Open</th>\n",
       "      <th>High</th>\n",
       "      <th>Low</th>\n",
       "      <th>Close</th>\n",
       "      <th>Adj Close</th>\n",
       "      <th>Volume</th>\n",
       "    </tr>\n",
       "  </thead>\n",
       "  <tbody>\n",
       "    <tr>\n",
       "      <th>0</th>\n",
       "      <td>2020-09-21</td>\n",
       "      <td>5.3965</td>\n",
       "      <td>5.4947</td>\n",
       "      <td>5.385089</td>\n",
       "      <td>5.3898</td>\n",
       "      <td>5.3898</td>\n",
       "      <td>0</td>\n",
       "    </tr>\n",
       "    <tr>\n",
       "      <th>1</th>\n",
       "      <td>2020-09-22</td>\n",
       "      <td>5.4130</td>\n",
       "      <td>5.4721</td>\n",
       "      <td>5.381000</td>\n",
       "      <td>5.4126</td>\n",
       "      <td>5.4126</td>\n",
       "      <td>0</td>\n",
       "    </tr>\n",
       "    <tr>\n",
       "      <th>2</th>\n",
       "      <td>2020-09-23</td>\n",
       "      <td>5.4705</td>\n",
       "      <td>5.5568</td>\n",
       "      <td>5.467055</td>\n",
       "      <td>5.4699</td>\n",
       "      <td>5.4699</td>\n",
       "      <td>0</td>\n",
       "    </tr>\n",
       "    <tr>\n",
       "      <th>3</th>\n",
       "      <td>2020-09-24</td>\n",
       "      <td>5.5921</td>\n",
       "      <td>5.6212</td>\n",
       "      <td>5.529300</td>\n",
       "      <td>5.5924</td>\n",
       "      <td>5.5924</td>\n",
       "      <td>0</td>\n",
       "    </tr>\n",
       "    <tr>\n",
       "      <th>4</th>\n",
       "      <td>2020-09-25</td>\n",
       "      <td>5.5084</td>\n",
       "      <td>5.5860</td>\n",
       "      <td>5.506018</td>\n",
       "      <td>5.5084</td>\n",
       "      <td>5.5084</td>\n",
       "      <td>0</td>\n",
       "    </tr>\n",
       "    <tr>\n",
       "      <th>...</th>\n",
       "      <td>...</td>\n",
       "      <td>...</td>\n",
       "      <td>...</td>\n",
       "      <td>...</td>\n",
       "      <td>...</td>\n",
       "      <td>...</td>\n",
       "      <td>...</td>\n",
       "    </tr>\n",
       "    <tr>\n",
       "      <th>257</th>\n",
       "      <td>2021-09-15</td>\n",
       "      <td>5.2386</td>\n",
       "      <td>5.2694</td>\n",
       "      <td>5.192595</td>\n",
       "      <td>5.2389</td>\n",
       "      <td>5.2389</td>\n",
       "      <td>0</td>\n",
       "    </tr>\n",
       "    <tr>\n",
       "      <th>258</th>\n",
       "      <td>2021-09-16</td>\n",
       "      <td>5.2217</td>\n",
       "      <td>5.2766</td>\n",
       "      <td>5.219645</td>\n",
       "      <td>5.2217</td>\n",
       "      <td>5.2217</td>\n",
       "      <td>0</td>\n",
       "    </tr>\n",
       "    <tr>\n",
       "      <th>259</th>\n",
       "      <td>2021-09-17</td>\n",
       "      <td>5.2568</td>\n",
       "      <td>5.3448</td>\n",
       "      <td>5.252091</td>\n",
       "      <td>5.2568</td>\n",
       "      <td>5.2568</td>\n",
       "      <td>0</td>\n",
       "    </tr>\n",
       "    <tr>\n",
       "      <th>260</th>\n",
       "      <td>2021-09-20</td>\n",
       "      <td>5.2896</td>\n",
       "      <td>5.3437</td>\n",
       "      <td>5.281905</td>\n",
       "      <td>5.2897</td>\n",
       "      <td>5.2897</td>\n",
       "      <td>0</td>\n",
       "    </tr>\n",
       "    <tr>\n",
       "      <th>261</th>\n",
       "      <td>2021-09-21</td>\n",
       "      <td>5.3247</td>\n",
       "      <td>5.3615</td>\n",
       "      <td>5.262600</td>\n",
       "      <td>5.2701</td>\n",
       "      <td>5.2701</td>\n",
       "      <td>0</td>\n",
       "    </tr>\n",
       "  </tbody>\n",
       "</table>\n",
       "<p>262 rows × 7 columns</p>\n",
       "</div>"
      ],
      "text/plain": [
       "           Date    Open    High       Low   Close  Adj Close  Volume\n",
       "0    2020-09-21  5.3965  5.4947  5.385089  5.3898     5.3898       0\n",
       "1    2020-09-22  5.4130  5.4721  5.381000  5.4126     5.4126       0\n",
       "2    2020-09-23  5.4705  5.5568  5.467055  5.4699     5.4699       0\n",
       "3    2020-09-24  5.5921  5.6212  5.529300  5.5924     5.5924       0\n",
       "4    2020-09-25  5.5084  5.5860  5.506018  5.5084     5.5084       0\n",
       "..          ...     ...     ...       ...     ...        ...     ...\n",
       "257  2021-09-15  5.2386  5.2694  5.192595  5.2389     5.2389       0\n",
       "258  2021-09-16  5.2217  5.2766  5.219645  5.2217     5.2217       0\n",
       "259  2021-09-17  5.2568  5.3448  5.252091  5.2568     5.2568       0\n",
       "260  2021-09-20  5.2896  5.3437  5.281905  5.2897     5.2897       0\n",
       "261  2021-09-21  5.3247  5.3615  5.262600  5.2701     5.2701       0\n",
       "\n",
       "[262 rows x 7 columns]"
      ]
     },
     "execution_count": 3,
     "metadata": {},
     "output_type": "execute_result"
    }
   ],
   "source": [
    "dollar"
   ]
  },
  {
   "cell_type": "markdown",
   "metadata": {
    "id": "c8-ljt9BqVTE"
   },
   "source": [
    "<h2>Passo 2</h2>\n",
    "<h3>Ajustando os registros</h3>\n",
    "<p>Pegamos os dados do dolar apresentando um conjunto apenas de Date e close (fechamento). Em seguida aplicamos o filtro de data maior ou igual a 01/01/2021.</p>\n"
   ]
  },
  {
   "cell_type": "code",
   "execution_count": 4,
   "metadata": {
    "colab": {
     "base_uri": "https://localhost:8080/",
     "height": 419
    },
    "id": "ktijSPFkGaXz",
    "outputId": "93308910-9f70-49fb-84e2-62ad44572d56"
   },
   "outputs": [
    {
     "data": {
      "text/html": [
       "<div>\n",
       "<style scoped>\n",
       "    .dataframe tbody tr th:only-of-type {\n",
       "        vertical-align: middle;\n",
       "    }\n",
       "\n",
       "    .dataframe tbody tr th {\n",
       "        vertical-align: top;\n",
       "    }\n",
       "\n",
       "    .dataframe thead th {\n",
       "        text-align: right;\n",
       "    }\n",
       "</style>\n",
       "<table border=\"1\" class=\"dataframe\">\n",
       "  <thead>\n",
       "    <tr style=\"text-align: right;\">\n",
       "      <th></th>\n",
       "      <th>Date</th>\n",
       "      <th>Close</th>\n",
       "    </tr>\n",
       "  </thead>\n",
       "  <tbody>\n",
       "    <tr>\n",
       "      <th>74</th>\n",
       "      <td>2021-01-01</td>\n",
       "      <td>5.1921</td>\n",
       "    </tr>\n",
       "    <tr>\n",
       "      <th>75</th>\n",
       "      <td>2021-01-04</td>\n",
       "      <td>5.1919</td>\n",
       "    </tr>\n",
       "    <tr>\n",
       "      <th>76</th>\n",
       "      <td>2021-01-05</td>\n",
       "      <td>5.2953</td>\n",
       "    </tr>\n",
       "    <tr>\n",
       "      <th>77</th>\n",
       "      <td>2021-01-06</td>\n",
       "      <td>5.2841</td>\n",
       "    </tr>\n",
       "    <tr>\n",
       "      <th>78</th>\n",
       "      <td>2021-01-07</td>\n",
       "      <td>5.3129</td>\n",
       "    </tr>\n",
       "    <tr>\n",
       "      <th>...</th>\n",
       "      <td>...</td>\n",
       "      <td>...</td>\n",
       "    </tr>\n",
       "    <tr>\n",
       "      <th>257</th>\n",
       "      <td>2021-09-15</td>\n",
       "      <td>5.2389</td>\n",
       "    </tr>\n",
       "    <tr>\n",
       "      <th>258</th>\n",
       "      <td>2021-09-16</td>\n",
       "      <td>5.2217</td>\n",
       "    </tr>\n",
       "    <tr>\n",
       "      <th>259</th>\n",
       "      <td>2021-09-17</td>\n",
       "      <td>5.2568</td>\n",
       "    </tr>\n",
       "    <tr>\n",
       "      <th>260</th>\n",
       "      <td>2021-09-20</td>\n",
       "      <td>5.2897</td>\n",
       "    </tr>\n",
       "    <tr>\n",
       "      <th>261</th>\n",
       "      <td>2021-09-21</td>\n",
       "      <td>5.2701</td>\n",
       "    </tr>\n",
       "  </tbody>\n",
       "</table>\n",
       "<p>188 rows × 2 columns</p>\n",
       "</div>"
      ],
      "text/plain": [
       "          Date   Close\n",
       "74  2021-01-01  5.1921\n",
       "75  2021-01-04  5.1919\n",
       "76  2021-01-05  5.2953\n",
       "77  2021-01-06  5.2841\n",
       "78  2021-01-07  5.3129\n",
       "..         ...     ...\n",
       "257 2021-09-15  5.2389\n",
       "258 2021-09-16  5.2217\n",
       "259 2021-09-17  5.2568\n",
       "260 2021-09-20  5.2897\n",
       "261 2021-09-21  5.2701\n",
       "\n",
       "[188 rows x 2 columns]"
      ]
     },
     "execution_count": 4,
     "metadata": {},
     "output_type": "execute_result"
    }
   ],
   "source": [
    "colunas = ['Date', 'Close']\n",
    "dados_dollar = dollar.filter(colunas)\n",
    "dados_dollar['Date'] = pd.to_datetime(dados_dollar['Date'])\n",
    "\n",
    "filtro = (dados_dollar['Date']>='2021-01-01')\n",
    "\n",
    "dados_dollar_2021 = dados_dollar[filtro]\n",
    "dados_dollar_2021"
   ]
  },
  {
   "cell_type": "markdown",
   "metadata": {
    "id": "M3qarcqB5dhm"
   },
   "source": [
    "<h3>Pegando apenas a data e valor de fechamento da IBOVESPA do ano de 2021</h3>\n",
    "<p>Pegamos os dados da bolsa apresentando um conjunto apenas de Date e close (fechamento). Em seguida aplicamos o filtro de data maior ou igual a 01/01/2021.</p>"
   ]
  },
  {
   "cell_type": "code",
   "execution_count": 5,
   "metadata": {
    "colab": {
     "base_uri": "https://localhost:8080/",
     "height": 419
    },
    "id": "uJI3z8xS5n5r",
    "outputId": "4052b098-f2b7-49e3-dc3a-292aa50a287e"
   },
   "outputs": [
    {
     "data": {
      "text/html": [
       "<div>\n",
       "<style scoped>\n",
       "    .dataframe tbody tr th:only-of-type {\n",
       "        vertical-align: middle;\n",
       "    }\n",
       "\n",
       "    .dataframe tbody tr th {\n",
       "        vertical-align: top;\n",
       "    }\n",
       "\n",
       "    .dataframe thead th {\n",
       "        text-align: right;\n",
       "    }\n",
       "</style>\n",
       "<table border=\"1\" class=\"dataframe\">\n",
       "  <thead>\n",
       "    <tr style=\"text-align: right;\">\n",
       "      <th></th>\n",
       "      <th>Date</th>\n",
       "      <th>Close</th>\n",
       "    </tr>\n",
       "  </thead>\n",
       "  <tbody>\n",
       "    <tr>\n",
       "      <th>68</th>\n",
       "      <td>2021-01-04</td>\n",
       "      <td>118558.000000</td>\n",
       "    </tr>\n",
       "    <tr>\n",
       "      <th>69</th>\n",
       "      <td>2021-01-05</td>\n",
       "      <td>119223.000000</td>\n",
       "    </tr>\n",
       "    <tr>\n",
       "      <th>70</th>\n",
       "      <td>2021-01-06</td>\n",
       "      <td>119851.000000</td>\n",
       "    </tr>\n",
       "    <tr>\n",
       "      <th>71</th>\n",
       "      <td>2021-01-07</td>\n",
       "      <td>121956.000000</td>\n",
       "    </tr>\n",
       "    <tr>\n",
       "      <th>72</th>\n",
       "      <td>2021-01-08</td>\n",
       "      <td>125077.000000</td>\n",
       "    </tr>\n",
       "    <tr>\n",
       "      <th>...</th>\n",
       "      <td>...</td>\n",
       "      <td>...</td>\n",
       "    </tr>\n",
       "    <tr>\n",
       "      <th>242</th>\n",
       "      <td>2021-09-15</td>\n",
       "      <td>115063.000000</td>\n",
       "    </tr>\n",
       "    <tr>\n",
       "      <th>243</th>\n",
       "      <td>2021-09-16</td>\n",
       "      <td>113794.000000</td>\n",
       "    </tr>\n",
       "    <tr>\n",
       "      <th>244</th>\n",
       "      <td>2021-09-17</td>\n",
       "      <td>111439.000000</td>\n",
       "    </tr>\n",
       "    <tr>\n",
       "      <th>245</th>\n",
       "      <td>2021-09-20</td>\n",
       "      <td>108844.000000</td>\n",
       "    </tr>\n",
       "    <tr>\n",
       "      <th>246</th>\n",
       "      <td>2021-09-21</td>\n",
       "      <td>110339.148438</td>\n",
       "    </tr>\n",
       "  </tbody>\n",
       "</table>\n",
       "<p>179 rows × 2 columns</p>\n",
       "</div>"
      ],
      "text/plain": [
       "          Date          Close\n",
       "68  2021-01-04  118558.000000\n",
       "69  2021-01-05  119223.000000\n",
       "70  2021-01-06  119851.000000\n",
       "71  2021-01-07  121956.000000\n",
       "72  2021-01-08  125077.000000\n",
       "..         ...            ...\n",
       "242 2021-09-15  115063.000000\n",
       "243 2021-09-16  113794.000000\n",
       "244 2021-09-17  111439.000000\n",
       "245 2021-09-20  108844.000000\n",
       "246 2021-09-21  110339.148438\n",
       "\n",
       "[179 rows x 2 columns]"
      ]
     },
     "execution_count": 5,
     "metadata": {},
     "output_type": "execute_result"
    }
   ],
   "source": [
    "dados_bolsa_valores = bolsa_valores.filter(colunas)\n",
    "dados_bolsa_valores['Date'] = pd.to_datetime(dados_bolsa_valores['Date'])\n",
    "\n",
    "filtro = (dados_bolsa_valores['Date']>='2021-01-01')\n",
    "\n",
    "dados_bolsa_valores_2021 = dados_bolsa_valores[filtro]\n",
    "dados_bolsa_valores_2021"
   ]
  },
  {
   "cell_type": "markdown",
   "metadata": {
    "id": "trM8OtiEqf6T"
   },
   "source": [
    "<h3>Agrupando e pegando a média dos valores do Dóllar por mês</h3>\n",
    "<p>Neste contexto, pegamos os valores da média dos valores em dolar mês a mês. Fazemos isso aplicamos o comando groupby, finalizando com a função de média (mean()).</p>"
   ]
  },
  {
   "cell_type": "code",
   "execution_count": 12,
   "metadata": {
    "colab": {
     "base_uri": "https://localhost:8080/",
     "height": 0
    },
    "id": "uBSJqT9pnIhE",
    "outputId": "679e809a-8089-4fab-aa62-c301411fa74b"
   },
   "outputs": [
    {
     "data": {
      "text/plain": [
       "Date\n",
       "April        5.574136\n",
       "August       5.252873\n",
       "February     5.402634\n",
       "January      5.338947\n",
       "July         5.151366\n",
       "June         5.035377\n",
       "March        5.640775\n",
       "May          5.305892\n",
       "September    5.219927\n",
       "Name: Close, dtype: float64"
      ]
     },
     "execution_count": 12,
     "metadata": {},
     "output_type": "execute_result"
    }
   ],
   "source": [
    "dados_dollar_mes = dados_dollar_2021.groupby(dados_dollar_2021['Date'].dt.strftime('%B'))['Close'].mean()\n",
    "dados_dollar_mes\n"
   ]
  },
  {
   "cell_type": "markdown",
   "metadata": {},
   "source": [
    "<h3>Passo 3</h3>\n",
    "<h4>Gerando gráfico de preço médio do dolar</h4>\n",
    "<p>Aqui montamos o gráfico de barra, apresentando os valores médios do dollar mês a mês.</p>"
   ]
  },
  {
   "cell_type": "code",
   "execution_count": 7,
   "metadata": {
    "colab": {
     "base_uri": "https://localhost:8080/",
     "height": 340
    },
    "id": "kwqXdXj39eAv",
    "outputId": "de5baeaf-2874-4d91-fb79-ed38dd622e2b",
    "scrolled": true
   },
   "outputs": [
    {
     "data": {
      "image/png": "[encoded data removed]",
      "text/plain": [
       "<Figure size 432x288 with 1 Axes>"
      ]
     },
     "metadata": {
      "needs_background": "light"
     },
     "output_type": "display_data"
    }
   ],
   "source": [
    "dados_dollar_mes.plot(kind='bar')\n",
    "\n",
    "x1,x2,y1,y2 = plt.axis()\n",
    "plt.axis((x1,x2,2,7))\n",
    "\n",
    "plt.title(\"Dóllar entre Janeiro e Setembro de 2021\")\n",
    "plt.xlabel(\"Meses\")\n",
    "plt.ylabel(\"Valores em Reais\")\n",
    "\n",
    "plt.show()\n"
   ]
  },
  {
   "cell_type": "markdown",
   "metadata": {
    "id": "L7L_peB-8agg"
   },
   "source": [
    "## **Agrupando e pegando a média dos valores da Bolsa de Valores por mês**"
   ]
  },
  {
   "cell_type": "code",
   "execution_count": 8,
   "metadata": {
    "colab": {
     "base_uri": "https://localhost:8080/",
     "height": 0
    },
    "id": "tgiqOUH-voIE",
    "outputId": "3429bbe4-ed3a-4584-9110-69e00a0ec164"
   },
   "outputs": [
    {
     "data": {
      "text/plain": [
       "Date\n",
       "April        119249.450000\n",
       "August       120312.636364\n",
       "February     117292.823529\n",
       "January      120126.210526\n",
       "July         126030.952381\n",
       "June         128989.952381\n",
       "March        113870.826087\n",
       "May          122219.714286\n",
       "September    114714.224888\n",
       "Name: Close, dtype: float64"
      ]
     },
     "execution_count": 8,
     "metadata": {},
     "output_type": "execute_result"
    }
   ],
   "source": [
    "dados_bolsa_valores_mes = dados_bolsa_valores_2021.groupby(dados_bolsa_valores_2021['Date'].dt.strftime('%B'))['Close'].mean()\n",
    "dados_bolsa_valores_mes"
   ]
  },
  {
   "cell_type": "code",
   "execution_count": 9,
   "metadata": {
    "colab": {
     "base_uri": "https://localhost:8080/",
     "height": 340
    },
    "id": "shMmLpwwonx8",
    "outputId": "f7c6cc9a-d2f1-4e72-f2e8-3602a42f489e"
   },
   "outputs": [
    {
     "data": {
      "image/png": "[encoded data removed]",
      "text/plain": [
       "<Figure size 432x288 with 1 Axes>"
      ]
     },
     "metadata": {
      "needs_background": "light"
     },
     "output_type": "display_data"
    }
   ],
   "source": [
    "dados_bolsa_valores_mes.plot(kind='bar')\n",
    "x1,x2,y1,y2 = plt.axis()\n",
    "plt.axis((x1,x2,100000,140000))\n",
    "plt.title(\"Bolsa de valores entre Janeiro e Setembro de 2021\")\n",
    "plt.xlabel(\"Meses\")\n",
    "plt.ylabel(\"Valores em Reais\")\n",
    "plt.show()"
   ]
  },
  {
   "cell_type": "markdown",
   "metadata": {
    "id": "AVXAummYBCB-"
   },
   "source": [
    "## **Unindo os dados das tabelas**"
   ]
  },
  {
   "cell_type": "code",
   "execution_count": 10,
   "metadata": {
    "colab": {
     "base_uri": "https://localhost:8080/",
     "height": 359
    },
    "id": "97cpOvwxBF_T",
    "outputId": "6489fe3c-cf74-461b-b6ac-9729318bbfd6"
   },
   "outputs": [
    {
     "data": {
      "text/html": [
       "<div>\n",
       "<style scoped>\n",
       "    .dataframe tbody tr th:only-of-type {\n",
       "        vertical-align: middle;\n",
       "    }\n",
       "\n",
       "    .dataframe tbody tr th {\n",
       "        vertical-align: top;\n",
       "    }\n",
       "\n",
       "    .dataframe thead th {\n",
       "        text-align: right;\n",
       "    }\n",
       "</style>\n",
       "<table border=\"1\" class=\"dataframe\">\n",
       "  <thead>\n",
       "    <tr style=\"text-align: right;\">\n",
       "      <th></th>\n",
       "      <th>Bolsa de Valores</th>\n",
       "      <th>Dollar</th>\n",
       "    </tr>\n",
       "    <tr>\n",
       "      <th>Date</th>\n",
       "      <th></th>\n",
       "      <th></th>\n",
       "    </tr>\n",
       "  </thead>\n",
       "  <tbody>\n",
       "    <tr>\n",
       "      <th>April</th>\n",
       "      <td>119249.450000</td>\n",
       "      <td>5.574136</td>\n",
       "    </tr>\n",
       "    <tr>\n",
       "      <th>August</th>\n",
       "      <td>120312.636364</td>\n",
       "      <td>5.252873</td>\n",
       "    </tr>\n",
       "    <tr>\n",
       "      <th>February</th>\n",
       "      <td>117292.823529</td>\n",
       "      <td>5.402634</td>\n",
       "    </tr>\n",
       "    <tr>\n",
       "      <th>January</th>\n",
       "      <td>120126.210526</td>\n",
       "      <td>5.338947</td>\n",
       "    </tr>\n",
       "    <tr>\n",
       "      <th>July</th>\n",
       "      <td>126030.952381</td>\n",
       "      <td>5.151366</td>\n",
       "    </tr>\n",
       "    <tr>\n",
       "      <th>June</th>\n",
       "      <td>128989.952381</td>\n",
       "      <td>5.035377</td>\n",
       "    </tr>\n",
       "    <tr>\n",
       "      <th>March</th>\n",
       "      <td>113870.826087</td>\n",
       "      <td>5.640775</td>\n",
       "    </tr>\n",
       "    <tr>\n",
       "      <th>May</th>\n",
       "      <td>122219.714286</td>\n",
       "      <td>5.305892</td>\n",
       "    </tr>\n",
       "    <tr>\n",
       "      <th>September</th>\n",
       "      <td>114714.224888</td>\n",
       "      <td>5.219927</td>\n",
       "    </tr>\n",
       "  </tbody>\n",
       "</table>\n",
       "</div>"
      ],
      "text/plain": [
       "           Bolsa de Valores    Dollar\n",
       "Date                                 \n",
       "April         119249.450000  5.574136\n",
       "August        120312.636364  5.252873\n",
       "February      117292.823529  5.402634\n",
       "January       120126.210526  5.338947\n",
       "July          126030.952381  5.151366\n",
       "June          128989.952381  5.035377\n",
       "March         113870.826087  5.640775\n",
       "May           122219.714286  5.305892\n",
       "September     114714.224888  5.219927"
      ]
     },
     "execution_count": 10,
     "metadata": {},
     "output_type": "execute_result"
    }
   ],
   "source": [
    "dados_dollar_bolsa_valores = pd.concat([dados_bolsa_valores_mes, dados_dollar_mes], axis=1)\n",
    "dados_dollar_bolsa_valores.columns = ['Bolsa de Valores', 'Dollar']\n",
    "dados_dollar_bolsa_valores"
   ]
  },
  {
   "cell_type": "markdown",
   "metadata": {
    "id": "FuhJ5YAZHEYw"
   },
   "source": [
    "## **Geração do Gráfico de disperção para Análise de Relação entre Ativos por mês**"
   ]
  },
  {
   "cell_type": "code",
   "execution_count": 11,
   "metadata": {
    "colab": {
     "base_uri": "https://localhost:8080/",
     "height": 279
    },
    "id": "w990OeuWGt5x",
    "outputId": "4c716f25-eef0-458c-b1e6-8539c988feec"
   },
   "outputs": [
    {
     "data": {
      "image/png": "[encoded data removed]",
      "text/plain": [
       "<Figure size 432x288 with 1 Axes>"
      ]
     },
     "metadata": {
      "needs_background": "light"
     },
     "output_type": "display_data"
    }
   ],
   "source": [
    "dados_dollar_bolsa_valores.plot(x='Dollar', y='Bolsa de Valores', kind='scatter', grid=True)\n",
    "plt.grid(axis='both', ls='--')\n",
    "plt.show()"
   ]
  },
  {
   "cell_type": "markdown",
   "metadata": {
    "id": "mn5vaHl6a2v1"
   },
   "source": [
    "## ****"
   ]
  }
 ],
 "metadata": {
  "colab": {
   "collapsed_sections": [],
   "name": "Untitled0.ipynb",
   "provenance": []
  },
  "kernelspec": {
   "display_name": "Python 3",
   "language": "python",
   "name": "python3"
  },
  "language_info": {
   "codemirror_mode": {
    "name": "ipython",
    "version": 3
   },
   "file_extension": ".py",
   "mimetype": "text/x-python",
   "name": "python",
   "nbconvert_exporter": "python",
   "pygments_lexer": "ipython3",
   "version": "3.8.8"
  }
 },
 "nbformat": 4,
 "nbformat_minor": 1
}
