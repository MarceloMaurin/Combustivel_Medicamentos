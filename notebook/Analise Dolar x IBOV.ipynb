{
 "cells": [
  {
   "cell_type": "markdown",
   "id": "b89c616f",
   "metadata": {},
   "source": [
    "<center><h1>Importação da Massa de dados</h1></center>\n",
    "\n",
    "    "
   ]
  },
  {
   "cell_type": "markdown",
   "id": "3c2c9cd9",
   "metadata": {},
   "source": [
    "<p> O objetivo deste modulo é apresentar como foi feito a importação dos dados do dolar e do IBOV. <br/>\n",
    "Lembrando que estas informações são oriundas deste <a href=\"https://www.econodados.com.br/tabela.dll/in5?cod_site=TestDrive%20Macrodados%20Online&pg=-1\">link</a>, e o IBOVESPA no <a href=\"https://finance.yahoo.com/quote/%5EBVSP/history\">link</a>.</p>\n",
    "<br/>\n",
    "<p>Estaremos fazendo o processo passo a passo, para ser didático.</p>"
   ]
  },
  {
   "cell_type": "markdown",
   "id": "ee5bfb98",
   "metadata": {},
   "source": [
    "<h2>Passo 1</h2>\n",
    "<p>Aqui estaremos primeiramente carregando os dados da nossa base de dados.</p>"
   ]
  },
  {
   "cell_type": "code",
   "execution_count": 8,
   "id": "9d90473c",
   "metadata": {},
   "outputs": [
    {
     "name": "stdout",
     "output_type": "stream",
     "text": [
      "\n",
      "\n",
      " 1° Passo: Leitura do dataframe completo\n",
      "Tabela USD/BRL \n",
      "            Date    Open    High       Low   Close  Adj Close  Volume\n",
      "0    2020-09-21  5.3965  5.4947  5.385089  5.3898     5.3898       0\n",
      "1    2020-09-22  5.4130  5.4721  5.381000  5.4126     5.4126       0\n",
      "2    2020-09-23  5.4705  5.5568  5.467055  5.4699     5.4699       0\n",
      "3    2020-09-24  5.5921  5.6212  5.529300  5.5924     5.5924       0\n",
      "4    2020-09-25  5.5084  5.5860  5.506018  5.5084     5.5084       0\n",
      "..          ...     ...     ...       ...     ...        ...     ...\n",
      "257  2021-09-15  5.2386  5.2694  5.192595  5.2389     5.2389       0\n",
      "258  2021-09-16  5.2217  5.2766  5.219645  5.2217     5.2217       0\n",
      "259  2021-09-17  5.2568  5.3448  5.252091  5.2568     5.2568       0\n",
      "260  2021-09-20  5.2896  5.3437  5.281905  5.2897     5.2897       0\n",
      "261  2021-09-21  5.3247  5.3615  5.262600  5.2701     5.2701       0\n",
      "\n",
      "[262 rows x 7 columns]\n",
      "Tabela IBOVESPA \n",
      "            Date          Open           High           Low          Close  \\\n",
      "0    2020-09-21   98283.00000   98283.000000   95820.00000   96991.000000   \n",
      "1    2020-09-22   96995.00000   97684.000000   96390.00000   97294.000000   \n",
      "2    2020-09-23   97294.00000   97389.000000   95728.00000   95735.000000   \n",
      "3    2020-09-24   95735.00000   97955.000000   95653.00000   97012.000000   \n",
      "4    2020-09-25   97011.00000   97012.000000   95632.00000   96999.000000   \n",
      "..          ...           ...            ...           ...            ...   \n",
      "242  2021-09-15  116191.00000  116312.000000  114741.00000  115063.000000   \n",
      "243  2021-09-16  115062.00000  115062.000000  113395.00000  113794.000000   \n",
      "244  2021-09-17  113794.00000  113794.000000  111157.00000  111439.000000   \n",
      "245  2021-09-20  111435.00000  111435.000000  107520.00000  108844.000000   \n",
      "246  2021-09-21  108859.21875  110923.171875  108859.21875  110339.148438   \n",
      "\n",
      "         Adj Close      Volume  \n",
      "0     96991.000000   9738000.0  \n",
      "1     97294.000000   7281300.0  \n",
      "2     95735.000000   8830700.0  \n",
      "3     97012.000000   9331000.0  \n",
      "4     96999.000000   7351100.0  \n",
      "..             ...         ...  \n",
      "242  115063.000000   9456800.0  \n",
      "243  113794.000000  10685500.0  \n",
      "244  111439.000000  14827600.0  \n",
      "245  108844.000000  11500200.0  \n",
      "246  110339.148438         0.0  \n",
      "\n",
      "[247 rows x 7 columns]\n",
      "\n"
     ]
    }
   ],
   "source": [
    "import pandas as pd\n",
    "import numpy as np\n",
    "import matplotlib.pyplot as plt\n",
    "\"\"\"O Objetivo é realizar a leitura de duas cotações sendo Ibovespa Futuro e Dolar, para entendimento da relação entre si\"\"\"\n",
    "\"\"\"O Periodo de análise será entre 20 de agosto á 20 de setembro\"\"\"\n",
    "#Importação dos Datasets\n",
    "bolsa_valores = pd.read_csv('./../dados/IBOV.csv')\n",
    "dollar = pd.read_csv('./../dados/USD_BRL.csv')\n",
    "# Leitura do Dataset completo da Cotação do Dollar e da bolsa de valores \n",
    "print(\"\\n\\n 1° Passo: Leitura do dataframe completo\")\n",
    "print(f\"Tabela USD/BRL \\n {dollar}\")\n",
    "print(f\"Tabela IBOVESPA \\n {bolsa_valores}\\n\")\n",
    "\n",
    "\n"
   ]
  },
  {
   "cell_type": "markdown",
   "id": "d5529716",
   "metadata": {},
   "source": [
    "<h2>Passo 2</h2>\n",
    "<p>Consideraremos apenas as informações no período de 30 dias, que é o nosso alvo de analise.</p>\n",
    "<p>Para isso usaremos um Filtro para leitura somente da data de 20 de agosto a 20 de setembro de 2021.\n",
    "Dolar</p>\n",
    "<p>O Comando loc pega os elementos de uma faixa de periodo do Date.</p>\n",
    "\n"
   ]
  },
  {
   "cell_type": "code",
   "execution_count": 9,
   "id": "2c1029b5",
   "metadata": {},
   "outputs": [
    {
     "name": "stdout",
     "output_type": "stream",
     "text": [
      "\n",
      "\n",
      "TABELA DOLAR USD/BRL \n",
      "\n",
      "                Open    High       Low   Close  Adj Close  Volume\n",
      "Date                                                             \n",
      "2021-08-20  5.414300  5.4718  5.340000  5.4141     5.4141       0\n",
      "2021-08-23  5.384409  5.4043  5.339000  5.3790     5.3790       0\n",
      "2021-08-24  5.380100  5.3814  5.256300  5.3799     5.3799       0\n",
      "2021-08-25  5.245900  5.2667  5.226300  5.2458     5.2458       0\n",
      "2021-08-26  5.211000  5.2561  5.207356  5.2110     5.2110       0\n",
      "2021-08-27  5.251800  5.2585  5.189700  5.2516     5.2516       0\n",
      "2021-08-30  5.203000  5.2223  5.182000  5.2028     5.2028       0\n",
      "2021-08-31  5.183200  5.1925  5.115800  5.1829     5.1829       0\n",
      "2021-09-01  5.147381  5.1853  5.141400  5.1493     5.1493       0\n",
      "2021-09-02  5.185200  5.1971  5.141200  5.1846     5.1846       0\n",
      "2021-09-03  5.181900  5.1892  5.131100  5.1818     5.1818       0\n",
      "2021-09-06  5.192500  5.2087  5.154700  5.1898     5.1898       0\n",
      "2021-09-07  5.169100  5.1699  5.166947  5.1693     5.1693       0\n",
      "2021-09-08  5.168800  5.3068  5.166941  5.1696     5.1696       0\n",
      "2021-09-09  5.320700  5.3309  5.260900  5.3206     5.3206       0\n",
      "2021-09-10  5.196700  5.2357  5.163162  5.1965     5.1965       0\n",
      "2021-09-13  5.246900  5.2644  5.201000  5.2470     5.2470       0\n",
      "2021-09-14  5.213000  5.2488  5.192441  5.2132     5.2132       0\n",
      "2021-09-15  5.238600  5.2694  5.192595  5.2389     5.2389       0\n",
      "2021-09-16  5.221700  5.2766  5.219645  5.2217     5.2217       0\n",
      "2021-09-17  5.256800  5.3448  5.252091  5.2568     5.2568       0\n",
      "2021-09-20  5.289600  5.3437  5.281905  5.2897     5.2897       0\n"
     ]
    }
   ],
   "source": [
    "print(\"\\n\\nTABELA DOLAR USD/BRL \\n\")\n",
    "#df_inverte_tab_dollar = dollar.tail(31)\n",
    "#tab_dol_mes = df_inverte_tab_dollar.loc[239:260]\n",
    "dollar.set_index('Date', inplace=True)\n",
    "tab_dol_mes = dollar.loc['2021-08-20':'2021-09-2021']\n",
    "\n",
    "print(tab_dol_mes)"
   ]
  },
  {
   "cell_type": "markdown",
   "id": "1d87d53b",
   "metadata": {},
   "source": [
    "<h2>Passo3</h2>\n",
    "<h3>Tratamento de dados do IBOVESPA</h3>\n",
    "<p>Neste processo, pegamos os valores do ibovespa, aplicando o mesmo filtro de dada do passo2. O procedimento visa nivelar os dados para o mesmo período de tempo.</p>\n"
   ]
  },
  {
   "cell_type": "code",
   "execution_count": 3,
   "id": "23309739",
   "metadata": {},
   "outputs": [
    {
     "name": "stdout",
     "output_type": "stream",
     "text": [
      "\n",
      "\n",
      "TABELA IBOVESPA\n",
      "\n",
      "                Open      High       Low     Close  Adj Close      Volume\n",
      "Date                                                                     \n",
      "2021-08-20  117163.0  118308.0  116040.0  118053.0   118053.0   8929300.0\n",
      "2021-08-23  118053.0  118445.0  117062.0  117472.0   117472.0   7853000.0\n",
      "2021-08-24  117474.0  120463.0  117474.0  120211.0   120211.0   9181000.0\n",
      "2021-08-25  120210.0  120818.0  119226.0  120818.0   120818.0   7520100.0\n",
      "2021-08-26  120817.0  120833.0  118719.0  118724.0   118724.0   8426900.0\n",
      "2021-08-27  118725.0  120678.0  118721.0  120678.0   120678.0   7323600.0\n",
      "2021-08-30  120677.0  120684.0  119354.0  119740.0   119740.0   6391900.0\n",
      "2021-08-31  119738.0  120157.0  117911.0  118781.0   118781.0  11535600.0\n",
      "2021-09-01  118793.0  119942.0  118067.0  119396.0   119396.0   9523000.0\n",
      "2021-09-02  119394.0  119397.0  116534.0  116677.0   116677.0   9862800.0\n",
      "2021-09-03  116679.0  117396.0  115583.0  116933.0   116933.0  12517500.0\n",
      "2021-09-06  116926.0  117981.0  116156.0  117869.0   117869.0   5111300.0\n",
      "2021-09-08  117866.0  117866.0  113172.0  113413.0   113413.0  12254400.0\n",
      "2021-09-09  113413.0  116354.0  112435.0  115361.0   115361.0  13890600.0\n",
      "2021-09-10  115370.0  116896.0  114286.0  114286.0   114286.0  11155700.0\n",
      "2021-09-13  114300.0  117046.0  114300.0  116404.0   116404.0   9253400.0\n",
      "2021-09-14  116405.0  117270.0  115809.0  116181.0   116181.0   9034100.0\n",
      "2021-09-15  116191.0  116312.0  114741.0  115063.0   115063.0   9456800.0\n",
      "2021-09-16  115062.0  115062.0  113395.0  113794.0   113794.0  10685500.0\n",
      "2021-09-17  113794.0  113794.0  111157.0  111439.0   111439.0  14827600.0\n",
      "2021-09-20  111435.0  111435.0  107520.0  108844.0   108844.0  11500200.0\n"
     ]
    }
   ],
   "source": [
    "\n",
    "\n",
    "print(\"\\n\\nTABELA IBOVESPA\\n\")\n",
    "#df_inverte_tab_bovespa = bolsa_valores.tail(31)\n",
    "#tab_ibo_mes = df_inverte_tab_bovespa.loc[225:245]\n",
    "bolsa_valores.set_index('Date', inplace=True)\n",
    "tab_ibov_mes = bolsa_valores.loc['2021-08-20':'2021-09-2021']\n",
    "print(tab_ibov_mes)\n"
   ]
  },
  {
   "cell_type": "markdown",
   "id": "14b78ba7",
   "metadata": {},
   "source": [
    "<h2>Passo 4</h2>\n",
    "<h3>Filtrando resultados indesejados com o drop do dollar</h3>\n",
    "<p>O Comando drop retira as colunas, que não serão utilizadas em nossa analise, permitindo trabalhar com os dados exatos.</p>"
   ]
  },
  {
   "cell_type": "code",
   "execution_count": 4,
   "id": "ddc38ff7",
   "metadata": {},
   "outputs": [
    {
     "name": "stdout",
     "output_type": "stream",
     "text": [
      "             Close\n",
      "Date              \n",
      "2021-08-20  5.4141\n",
      "2021-08-23  5.3790\n",
      "2021-08-24  5.3799\n",
      "2021-08-25  5.2458\n",
      "2021-08-26  5.2110\n",
      "2021-08-27  5.2516\n",
      "2021-08-30  5.2028\n",
      "2021-08-31  5.1829\n",
      "2021-09-01  5.1493\n",
      "2021-09-02  5.1846\n",
      "2021-09-03  5.1818\n",
      "2021-09-06  5.1898\n",
      "2021-09-07  5.1693\n",
      "2021-09-08  5.1696\n",
      "2021-09-09  5.3206\n",
      "2021-09-10  5.1965\n",
      "2021-09-13  5.2470\n",
      "2021-09-14  5.2132\n",
      "2021-09-15  5.2389\n",
      "2021-09-16  5.2217\n",
      "2021-09-17  5.2568\n",
      "2021-09-20  5.2897\n"
     ]
    }
   ],
   "source": [
    "\n",
    "tab_dol_mes.drop(['Open','High','Low','Adj Close','Volume'],axis=1,inplace=True)\n",
    "tab_dol_mes.head()\n",
    "print(tab_dol_mes)\n"
   ]
  },
  {
   "cell_type": "markdown",
   "id": "44260864",
   "metadata": {},
   "source": [
    "<h2>Passo 5</h2>\n",
    "<h3>Filtrando resultados indesejados com o drop do Ibovespa</h3>\n",
    "<p>Fazemos o mesmo processo do passo 4, porem agora com as informações do ibovespa.</p>"
   ]
  },
  {
   "cell_type": "code",
   "execution_count": 10,
   "id": "6ac1dcdf",
   "metadata": {},
   "outputs": [
    {
     "ename": "KeyError",
     "evalue": "\"['Open' 'High' 'Low' 'Adj Close' 'Volume'] not found in axis\"",
     "output_type": "error",
     "traceback": [
      "\u001b[1;31m---------------------------------------------------------------------------\u001b[0m",
      "\u001b[1;31mKeyError\u001b[0m                                  Traceback (most recent call last)",
      "\u001b[1;32m<ipython-input-10-a50f23e66512>\u001b[0m in \u001b[0;36m<module>\u001b[1;34m\u001b[0m\n\u001b[1;32m----> 1\u001b[1;33m \u001b[0mtab_ibov_mes\u001b[0m\u001b[1;33m.\u001b[0m\u001b[0mdrop\u001b[0m\u001b[1;33m(\u001b[0m\u001b[1;33m[\u001b[0m\u001b[1;34m'Open'\u001b[0m\u001b[1;33m,\u001b[0m \u001b[1;34m'High'\u001b[0m\u001b[1;33m,\u001b[0m \u001b[1;34m'Low'\u001b[0m\u001b[1;33m,\u001b[0m \u001b[1;34m'Adj Close'\u001b[0m\u001b[1;33m,\u001b[0m\u001b[1;34m'Volume'\u001b[0m\u001b[1;33m]\u001b[0m\u001b[1;33m,\u001b[0m \u001b[0maxis\u001b[0m\u001b[1;33m=\u001b[0m\u001b[1;36m1\u001b[0m\u001b[1;33m,\u001b[0m \u001b[0minplace\u001b[0m\u001b[1;33m=\u001b[0m\u001b[1;32mTrue\u001b[0m\u001b[1;33m)\u001b[0m\u001b[1;33m\u001b[0m\u001b[1;33m\u001b[0m\u001b[0m\n\u001b[0m\u001b[0;32m      2\u001b[0m \u001b[0mtab_ibov_mes\u001b[0m\u001b[1;33m.\u001b[0m\u001b[0mhead\u001b[0m\u001b[1;33m(\u001b[0m\u001b[1;33m)\u001b[0m\u001b[1;33m\u001b[0m\u001b[1;33m\u001b[0m\u001b[0m\n\u001b[0;32m      3\u001b[0m \u001b[0mprint\u001b[0m\u001b[1;33m(\u001b[0m\u001b[0mtab_ibov_mes\u001b[0m\u001b[1;33m)\u001b[0m\u001b[1;33m\u001b[0m\u001b[1;33m\u001b[0m\u001b[0m\n",
      "\u001b[1;32mC:\\ProgramData\\Anaconda3\\lib\\site-packages\\pandas\\core\\frame.py\u001b[0m in \u001b[0;36mdrop\u001b[1;34m(self, labels, axis, index, columns, level, inplace, errors)\u001b[0m\n\u001b[0;32m   4306\u001b[0m                 \u001b[0mweight\u001b[0m  \u001b[1;36m1.0\u001b[0m     \u001b[1;36m0.8\u001b[0m\u001b[1;33m\u001b[0m\u001b[1;33m\u001b[0m\u001b[0m\n\u001b[0;32m   4307\u001b[0m         \"\"\"\n\u001b[1;32m-> 4308\u001b[1;33m         return super().drop(\n\u001b[0m\u001b[0;32m   4309\u001b[0m             \u001b[0mlabels\u001b[0m\u001b[1;33m=\u001b[0m\u001b[0mlabels\u001b[0m\u001b[1;33m,\u001b[0m\u001b[1;33m\u001b[0m\u001b[1;33m\u001b[0m\u001b[0m\n\u001b[0;32m   4310\u001b[0m             \u001b[0maxis\u001b[0m\u001b[1;33m=\u001b[0m\u001b[0maxis\u001b[0m\u001b[1;33m,\u001b[0m\u001b[1;33m\u001b[0m\u001b[1;33m\u001b[0m\u001b[0m\n",
      "\u001b[1;32mC:\\ProgramData\\Anaconda3\\lib\\site-packages\\pandas\\core\\generic.py\u001b[0m in \u001b[0;36mdrop\u001b[1;34m(self, labels, axis, index, columns, level, inplace, errors)\u001b[0m\n\u001b[0;32m   4151\u001b[0m         \u001b[1;32mfor\u001b[0m \u001b[0maxis\u001b[0m\u001b[1;33m,\u001b[0m \u001b[0mlabels\u001b[0m \u001b[1;32min\u001b[0m \u001b[0maxes\u001b[0m\u001b[1;33m.\u001b[0m\u001b[0mitems\u001b[0m\u001b[1;33m(\u001b[0m\u001b[1;33m)\u001b[0m\u001b[1;33m:\u001b[0m\u001b[1;33m\u001b[0m\u001b[1;33m\u001b[0m\u001b[0m\n\u001b[0;32m   4152\u001b[0m             \u001b[1;32mif\u001b[0m \u001b[0mlabels\u001b[0m \u001b[1;32mis\u001b[0m \u001b[1;32mnot\u001b[0m \u001b[1;32mNone\u001b[0m\u001b[1;33m:\u001b[0m\u001b[1;33m\u001b[0m\u001b[1;33m\u001b[0m\u001b[0m\n\u001b[1;32m-> 4153\u001b[1;33m                 \u001b[0mobj\u001b[0m \u001b[1;33m=\u001b[0m \u001b[0mobj\u001b[0m\u001b[1;33m.\u001b[0m\u001b[0m_drop_axis\u001b[0m\u001b[1;33m(\u001b[0m\u001b[0mlabels\u001b[0m\u001b[1;33m,\u001b[0m \u001b[0maxis\u001b[0m\u001b[1;33m,\u001b[0m \u001b[0mlevel\u001b[0m\u001b[1;33m=\u001b[0m\u001b[0mlevel\u001b[0m\u001b[1;33m,\u001b[0m \u001b[0merrors\u001b[0m\u001b[1;33m=\u001b[0m\u001b[0merrors\u001b[0m\u001b[1;33m)\u001b[0m\u001b[1;33m\u001b[0m\u001b[1;33m\u001b[0m\u001b[0m\n\u001b[0m\u001b[0;32m   4154\u001b[0m \u001b[1;33m\u001b[0m\u001b[0m\n\u001b[0;32m   4155\u001b[0m         \u001b[1;32mif\u001b[0m \u001b[0minplace\u001b[0m\u001b[1;33m:\u001b[0m\u001b[1;33m\u001b[0m\u001b[1;33m\u001b[0m\u001b[0m\n",
      "\u001b[1;32mC:\\ProgramData\\Anaconda3\\lib\\site-packages\\pandas\\core\\generic.py\u001b[0m in \u001b[0;36m_drop_axis\u001b[1;34m(self, labels, axis, level, errors)\u001b[0m\n\u001b[0;32m   4186\u001b[0m                 \u001b[0mnew_axis\u001b[0m \u001b[1;33m=\u001b[0m \u001b[0maxis\u001b[0m\u001b[1;33m.\u001b[0m\u001b[0mdrop\u001b[0m\u001b[1;33m(\u001b[0m\u001b[0mlabels\u001b[0m\u001b[1;33m,\u001b[0m \u001b[0mlevel\u001b[0m\u001b[1;33m=\u001b[0m\u001b[0mlevel\u001b[0m\u001b[1;33m,\u001b[0m \u001b[0merrors\u001b[0m\u001b[1;33m=\u001b[0m\u001b[0merrors\u001b[0m\u001b[1;33m)\u001b[0m\u001b[1;33m\u001b[0m\u001b[1;33m\u001b[0m\u001b[0m\n\u001b[0;32m   4187\u001b[0m             \u001b[1;32melse\u001b[0m\u001b[1;33m:\u001b[0m\u001b[1;33m\u001b[0m\u001b[1;33m\u001b[0m\u001b[0m\n\u001b[1;32m-> 4188\u001b[1;33m                 \u001b[0mnew_axis\u001b[0m \u001b[1;33m=\u001b[0m \u001b[0maxis\u001b[0m\u001b[1;33m.\u001b[0m\u001b[0mdrop\u001b[0m\u001b[1;33m(\u001b[0m\u001b[0mlabels\u001b[0m\u001b[1;33m,\u001b[0m \u001b[0merrors\u001b[0m\u001b[1;33m=\u001b[0m\u001b[0merrors\u001b[0m\u001b[1;33m)\u001b[0m\u001b[1;33m\u001b[0m\u001b[1;33m\u001b[0m\u001b[0m\n\u001b[0m\u001b[0;32m   4189\u001b[0m             \u001b[0mresult\u001b[0m \u001b[1;33m=\u001b[0m \u001b[0mself\u001b[0m\u001b[1;33m.\u001b[0m\u001b[0mreindex\u001b[0m\u001b[1;33m(\u001b[0m\u001b[1;33m**\u001b[0m\u001b[1;33m{\u001b[0m\u001b[0maxis_name\u001b[0m\u001b[1;33m:\u001b[0m \u001b[0mnew_axis\u001b[0m\u001b[1;33m}\u001b[0m\u001b[1;33m)\u001b[0m\u001b[1;33m\u001b[0m\u001b[1;33m\u001b[0m\u001b[0m\n\u001b[0;32m   4190\u001b[0m \u001b[1;33m\u001b[0m\u001b[0m\n",
      "\u001b[1;32mC:\\ProgramData\\Anaconda3\\lib\\site-packages\\pandas\\core\\indexes\\base.py\u001b[0m in \u001b[0;36mdrop\u001b[1;34m(self, labels, errors)\u001b[0m\n\u001b[0;32m   5589\u001b[0m         \u001b[1;32mif\u001b[0m \u001b[0mmask\u001b[0m\u001b[1;33m.\u001b[0m\u001b[0many\u001b[0m\u001b[1;33m(\u001b[0m\u001b[1;33m)\u001b[0m\u001b[1;33m:\u001b[0m\u001b[1;33m\u001b[0m\u001b[1;33m\u001b[0m\u001b[0m\n\u001b[0;32m   5590\u001b[0m             \u001b[1;32mif\u001b[0m \u001b[0merrors\u001b[0m \u001b[1;33m!=\u001b[0m \u001b[1;34m\"ignore\"\u001b[0m\u001b[1;33m:\u001b[0m\u001b[1;33m\u001b[0m\u001b[1;33m\u001b[0m\u001b[0m\n\u001b[1;32m-> 5591\u001b[1;33m                 \u001b[1;32mraise\u001b[0m \u001b[0mKeyError\u001b[0m\u001b[1;33m(\u001b[0m\u001b[1;34mf\"{labels[mask]} not found in axis\"\u001b[0m\u001b[1;33m)\u001b[0m\u001b[1;33m\u001b[0m\u001b[1;33m\u001b[0m\u001b[0m\n\u001b[0m\u001b[0;32m   5592\u001b[0m             \u001b[0mindexer\u001b[0m \u001b[1;33m=\u001b[0m \u001b[0mindexer\u001b[0m\u001b[1;33m[\u001b[0m\u001b[1;33m~\u001b[0m\u001b[0mmask\u001b[0m\u001b[1;33m]\u001b[0m\u001b[1;33m\u001b[0m\u001b[1;33m\u001b[0m\u001b[0m\n\u001b[0;32m   5593\u001b[0m         \u001b[1;32mreturn\u001b[0m \u001b[0mself\u001b[0m\u001b[1;33m.\u001b[0m\u001b[0mdelete\u001b[0m\u001b[1;33m(\u001b[0m\u001b[0mindexer\u001b[0m\u001b[1;33m)\u001b[0m\u001b[1;33m\u001b[0m\u001b[1;33m\u001b[0m\u001b[0m\n",
      "\u001b[1;31mKeyError\u001b[0m: \"['Open' 'High' 'Low' 'Adj Close' 'Volume'] not found in axis\""
     ]
    }
   ],
   "source": [
    "\n",
    "tab_ibov_mes.drop(['Open', 'High', 'Low', 'Adj Close','Volume'], axis=1, inplace=True)\n",
    "tab_ibov_mes.head()\n",
    "print(tab_ibov_mes)\n"
   ]
  },
  {
   "cell_type": "markdown",
   "id": "c98200ca",
   "metadata": {},
   "source": [
    "<h2>Passo 7</h2>\n",
    "<h3>Integrando os dados Dollar x Bolsa</h3>\n",
    "<p>Juntando dados de duas tabelas para realizar a relação entre o Valor do Dolar e a Vaariação da Bolsa de Valores</p>"
   ]
  },
  {
   "cell_type": "code",
   "execution_count": 14,
   "id": "3fdfed7a",
   "metadata": {},
   "outputs": [
    {
     "name": "stdout",
     "output_type": "stream",
     "text": [
      "                Open    High       Low  Close_x  Adj Close  Volume   Close_y\n",
      "Date                                                                        \n",
      "2021-08-20  5.414300  5.4718  5.340000   5.4141     5.4141       0  118053.0\n",
      "2021-08-23  5.384409  5.4043  5.339000   5.3790     5.3790       0  117472.0\n",
      "2021-08-24  5.380100  5.3814  5.256300   5.3799     5.3799       0  120211.0\n",
      "2021-08-25  5.245900  5.2667  5.226300   5.2458     5.2458       0  120818.0\n",
      "2021-08-26  5.211000  5.2561  5.207356   5.2110     5.2110       0  118724.0\n",
      "2021-08-27  5.251800  5.2585  5.189700   5.2516     5.2516       0  120678.0\n",
      "2021-08-30  5.203000  5.2223  5.182000   5.2028     5.2028       0  119740.0\n",
      "2021-08-31  5.183200  5.1925  5.115800   5.1829     5.1829       0  118781.0\n",
      "2021-09-01  5.147381  5.1853  5.141400   5.1493     5.1493       0  119396.0\n",
      "2021-09-02  5.185200  5.1971  5.141200   5.1846     5.1846       0  116677.0\n",
      "2021-09-03  5.181900  5.1892  5.131100   5.1818     5.1818       0  116933.0\n",
      "2021-09-06  5.192500  5.2087  5.154700   5.1898     5.1898       0  117869.0\n",
      "2021-09-08  5.168800  5.3068  5.166941   5.1696     5.1696       0  113413.0\n",
      "2021-09-09  5.320700  5.3309  5.260900   5.3206     5.3206       0  115361.0\n",
      "2021-09-10  5.196700  5.2357  5.163162   5.1965     5.1965       0  114286.0\n",
      "2021-09-13  5.246900  5.2644  5.201000   5.2470     5.2470       0  116404.0\n",
      "2021-09-14  5.213000  5.2488  5.192441   5.2132     5.2132       0  116181.0\n",
      "2021-09-15  5.238600  5.2694  5.192595   5.2389     5.2389       0  115063.0\n",
      "2021-09-16  5.221700  5.2766  5.219645   5.2217     5.2217       0  113794.0\n",
      "2021-09-17  5.256800  5.3448  5.252091   5.2568     5.2568       0  111439.0\n",
      "2021-09-20  5.289600  5.3437  5.281905   5.2897     5.2897       0  108844.0\n"
     ]
    }
   ],
   "source": [
    "merge_dados = tab_dol_mes.merge(tab_ibov_mes, how='inner',left_on='Date', right_on='Date')\n",
    "print(merge_dados)\n"
   ]
  },
  {
   "cell_type": "markdown",
   "id": "a4c536d3",
   "metadata": {},
   "source": [
    "<h2>Passo 8</h2>\n",
    "<h3>Gerando o Gráfico</h3>\n",
    "<p>Gerando o gráfico para apresentação do resultado final.</p>"
   ]
  },
  {
   "cell_type": "code",
   "execution_count": 15,
   "id": "705e9d7a",
   "metadata": {},
   "outputs": [
    {
     "data": {
      "image/png": "[encoded data removed]",
      "text/plain": [
       "<Figure size 432x288 with 1 Axes>"
      ]
     },
     "metadata": {
      "needs_background": "light"
     },
     "output_type": "display_data"
    }
   ],
   "source": [
    "\"\"\"Geração do Gráfico de disperção para Análise de Relação entre Ativos\"\"\"\n",
    "merge_dados.plot(x='Close_y', y='Close_x', kind='scatter')\n",
    "plt.show()"
   ]
  },
  {
   "cell_type": "code",
   "execution_count": null,
   "id": "5fc78250",
   "metadata": {},
   "outputs": [],
   "source": []
  }
 ],
 "metadata": {
  "kernelspec": {
   "display_name": "Python 3",
   "language": "python",
   "name": "python3"
  },
  "language_info": {
   "codemirror_mode": {
    "name": "ipython",
    "version": 3
   },
   "file_extension": ".py",
   "mimetype": "text/x-python",
   "name": "python",
   "nbconvert_exporter": "python",
   "pygments_lexer": "ipython3",
   "version": "3.8.8"
  }
 },
 "nbformat": 4,
 "nbformat_minor": 5
}
