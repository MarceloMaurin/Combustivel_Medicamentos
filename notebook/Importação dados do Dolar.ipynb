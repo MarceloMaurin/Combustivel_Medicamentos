{
 "cells": [
  {
   "cell_type": "markdown",
   "id": "b89c616f",
   "metadata": {},
   "source": [
    "<h1>Importação de dados do Mês Dolar</h1>\n",
    "\n",
    "<p> O objetivo deste modulo é apresentar como foi feito a importação dos dados do dolar. Lembrando que estas informações são oriundas deste <a href=\"https://www.econodados.com.br/tabela.dll/in5?cod_site=TestDrive%20Macrodados%20Online&pg=-1\">link</a>.</p>\n",
    "<br/>\n",
    "<p>Estas informações serão comparadas com as informações do combustivel.</p>\n",
    "    "
   ]
  },
  {
   "cell_type": "code",
   "execution_count": 3,
   "id": "9d90473c",
   "metadata": {},
   "outputs": [
    {
     "name": "stdout",
     "output_type": "stream",
     "text": [
      "    Data,\"Var% Dólar Comercial - PTAX Média Mensal, Venda (R$/US$)\",\"Var% Dólar Comercial - PTAX Final do Mês, Venda (R$/US$)\"\n",
      "0                                02/1977,\"1,93\",\"2,22\"                                                                        \n",
      "1                                03/1977,\"2,36\",\"1,40\"                                                                        \n",
      "2                                04/1977,\"2,69\",\"2,38\"                                                                        \n",
      "3                                05/1977,\"2,62\",\"4,79\"                                                                        \n",
      "4                                06/1977,\"2,55\",\"2,50\"                                                                        \n",
      "..                                                 ...                                                                        \n",
      "532                            06/2021,\"-4,90\",\"-4,40\"                                                                        \n",
      "533                              07/2021,\"2,48\",\"2,39\"                                                                        \n",
      "534                              08/2021,\"1,84\",\"0,42\"                                                                        \n",
      "535                                 Fonte : Econodados                                                                        \n",
      "536                                  econodados.com.br                                                                        \n",
      "\n",
      "[537 rows x 1 columns]\n"
     ]
    }
   ],
   "source": [
    "import pandas as pd\n",
    "\n",
    "dfdolar = pd.read_csv(\"final_mes_dolar.CSV\",delimiter=\";\")\n",
    "print(dfdolar)"
   ]
  },
  {
   "cell_type": "code",
   "execution_count": null,
   "id": "a0d56d3a",
   "metadata": {},
   "outputs": [],
   "source": []
  }
 ],
 "metadata": {
  "kernelspec": {
   "display_name": "Python 3",
   "language": "python",
   "name": "python3"
  },
  "language_info": {
   "codemirror_mode": {
    "name": "ipython",
    "version": 3
   },
   "file_extension": ".py",
   "mimetype": "text/x-python",
   "name": "python",
   "nbconvert_exporter": "python",
   "pygments_lexer": "ipython3",
   "version": "3.8.8"
  }
 },
 "nbformat": 4,
 "nbformat_minor": 5
}
