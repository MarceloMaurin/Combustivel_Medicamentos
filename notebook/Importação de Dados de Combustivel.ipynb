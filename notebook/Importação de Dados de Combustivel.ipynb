{
 "cells": [
  {
   "cell_type": "markdown",
   "id": "b6a04843",
   "metadata": {},
   "source": [
    "<h1>Importação de Combustivel</h1>\n",
    "\n",
    "<p>Aqui demonstraremos o processo de importação dos dados analisados.</p>\n",
    "\n",
    "<p>As informações originais foram aqui coletadas <a href=\"https://github.com/marcelomaurin/Analise-de-Preco#:~:text=Combustivel-,fonte,-DOLAR\">link</a>, podendo ser lidas no mod</p>\n",
    "\n",
    "\n",
    "\n",
    "\n",
    "\n"
   ]
  },
  {
   "cell_type": "markdown",
   "id": "14fcf6e1",
   "metadata": {},
   "source": [
    "#Criando uma série a partir de um dicionário\n",
    "\n",
    "\n"
   ]
  },
  {
   "cell_type": "code",
   "execution_count": 47,
   "id": "3996d242",
   "metadata": {},
   "outputs": [],
   "source": [
    "import pandas as pd\n",
    "\n",
    "df2 = pd.read_csv(\"2021-02-gasolina-etanol.csv\",delimiter=\";\")\n",
    "\n",
    "df3 = pd.read_csv(\"2021-03-gasolina-etanol.csv\",delimiter=\";\")\n",
    "\n",
    "df4 = pd.read_csv(\"2021-04-gasolina-etanol.csv\",delimiter=\";\")\n",
    "\n",
    "df5 = pd.read_csv(\"2021-05-gasolina-etanol-1.csv\",delimiter=\";\")\n",
    "\n",
    "df6 = pd.read_csv(\"2021-06-gasolina-etanol.csv\",delimiter=\";\")\n",
    "\n",
    "df7 = pd.read_csv(\"2021-07-gasolina-etanol.csv\",delimiter=\";\")\n",
    "\n",
    "frames = [df2,df3,df4,df5,df6,df7]\n",
    "\n",
    "df = pd.concat(frames, sort=False)\n",
    "\n",
    "#print(df)\n",
    "\n",
    "\n",
    "df.to_csv(\"gasolina-etanol.cvs.gzip\", sep=';', index=False,  encoding='utf-8', compression='gzip')\n",
    "\n",
    "\n"
   ]
  },
  {
   "cell_type": "markdown",
   "id": "5c00eb7f",
   "metadata": {},
   "source": [
    "<h1>Leitura do arquivo gerado</h1>\n",
    "<p>Aqui veremos o processo de leitura do arquivo de combustivel concatenado para uso futuro</p>"
   ]
  },
  {
   "cell_type": "code",
   "execution_count": 48,
   "id": "dfdb6026",
   "metadata": {},
   "outputs": [],
   "source": [
    "dftotal = pd.read_csv(\"gasolina-etanol.cvs.gzip\",delimiter=\";\",compression='gzip')\n"
   ]
  },
  {
   "cell_type": "code",
   "execution_count": null,
   "id": "bdcf0227",
   "metadata": {},
   "outputs": [],
   "source": []
  }
 ],
 "metadata": {
  "kernelspec": {
   "display_name": "Python 3",
   "language": "python",
   "name": "python3"
  },
  "language_info": {
   "codemirror_mode": {
    "name": "ipython",
    "version": 3
   },
   "file_extension": ".py",
   "mimetype": "text/x-python",
   "name": "python",
   "nbconvert_exporter": "python",
   "pygments_lexer": "ipython3",
   "version": "3.8.8"
  }
 },
 "nbformat": 4,
 "nbformat_minor": 5
}
